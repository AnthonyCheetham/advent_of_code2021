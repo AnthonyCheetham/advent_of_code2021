{
 "cells": [
  {
   "cell_type": "markdown",
   "metadata": {},
   "source": [
    "### Day 5"
   ]
  },
  {
   "cell_type": "code",
   "execution_count": 1,
   "metadata": {},
   "outputs": [],
   "source": [
    "# Load input\n",
    "with open(\"inputs/day5_input.dat\",\"r\") as f:\n",
    "    data = f.read().splitlines()"
   ]
  },
  {
   "cell_type": "code",
   "execution_count": 2,
   "metadata": {},
   "outputs": [
    {
     "name": "stdout",
     "output_type": "stream",
     "text": [
      "35,968 -> 974,29\n"
     ]
    }
   ],
   "source": [
    "print(data[0])"
   ]
  },
  {
   "cell_type": "markdown",
   "metadata": {},
   "source": [
    "### Part 1:\n",
    "- Each input represents a line\n",
    "- Consider horizontal and vertical lines only\n",
    "- How many points are there where at least 2 lines overlap?"
   ]
  },
  {
   "cell_type": "code",
   "execution_count": 3,
   "metadata": {},
   "outputs": [],
   "source": [
    "class VentMap(object):\n",
    "    \"\"\"Class representing a map of hydrothermal vents.\n",
    "    Map is at self.vent_map\n",
    "    Each point self.vent_map[y][x] is the number of vents \n",
    "    that cross (x,y)\n",
    "    \"\"\"\n",
    "    def __init__(self,size):\n",
    "        vent_map = []\n",
    "        for y in range(size):\n",
    "            row = []\n",
    "            for x in range(size):\n",
    "                row.append(0)\n",
    "            vent_map.append(row)\n",
    "        self.vent_map = vent_map\n",
    "        self.size = size\n",
    "    \n",
    "    def print_map(self):\n",
    "        # For debugging.\n",
    "        # Need to print from start to end\n",
    "        for y in list(range(self.size)):\n",
    "            print_string = \" \".join([str(x) for x in self.vent_map[y]])\n",
    "            print_string = print_string.replace(\"0\",\".\")\n",
    "            print(print_string)\n",
    "            \n",
    "    def check_direction(self,start,stop):\n",
    "        \"\"\"Return inc needed for range(start,stop,inc) to count from start to stop\"\"\"\n",
    "        if start<stop:\n",
    "            return 1\n",
    "        else:\n",
    "            return -1\n",
    "\n",
    "            \n",
    "    def add_vent(self, txt, ignore_diagonal=True):\n",
    "        \"\"\"Process input text and add a vent line to the vent map.\n",
    "        txt is of form x1,y1 -> x2,y2\n",
    "        \"\"\"\n",
    "        # \n",
    "        start,stop = txt.split('->')\n",
    "        startx,starty = start.strip().split(',')\n",
    "        stopx,stopy = stop.strip().split(',')\n",
    "        \n",
    "        # Convert to ints\n",
    "        startx, starty = int(startx), int(starty)\n",
    "        stopx, stopy = int(stopx), int(stopy)\n",
    "        \n",
    "        # Vertical lines\n",
    "        if startx == stopx:\n",
    "            inc = self.check_direction(starty,stopy)\n",
    "            for y in range(starty,stopy+inc,inc):\n",
    "                self.vent_map[y][startx] += 1\n",
    "            \n",
    "        # Horizontal lines:\n",
    "        elif starty == stopy:\n",
    "            inc = self.check_direction(startx,stopx)\n",
    "            for x in range(startx,stopx+inc,inc):\n",
    "                self.vent_map[starty][x] += 1\n",
    "        \n",
    "        # Diagonal lines:\n",
    "        elif (abs(starty-stopy) == abs(startx-stopx)) and not ignore_diagonal:\n",
    "            incx = self.check_direction(startx,stopx)\n",
    "            incy = self.check_direction(starty,stopy)\n",
    "            maxdist = abs(starty-stopy)\n",
    "            for dist in range(maxdist+1):\n",
    "                y = starty + dist*incy\n",
    "                x = startx + dist*incx\n",
    "                try:\n",
    "                    self.vent_map[y][x] += 1\n",
    "                except:\n",
    "                    print(txt,\"Tried to do\",y,x)\n",
    "        \n",
    "    def count_danger_zones(self):\n",
    "        count = 0\n",
    "        for y in range(self.size):\n",
    "            for x in range(self.size):\n",
    "                if self.vent_map[y][x] > 1:\n",
    "                    count += 1\n",
    "        return count\n",
    "    "
   ]
  },
  {
   "cell_type": "code",
   "execution_count": 4,
   "metadata": {},
   "outputs": [
    {
     "name": "stdout",
     "output_type": "stream",
     "text": [
      "1 . 1 . . . . 1 1 .\n",
      ". 1 1 1 . . . 2 . .\n",
      ". . 2 . 1 . 1 1 1 .\n",
      ". . . 1 . 2 . 2 . .\n",
      ". 1 1 2 3 1 3 2 1 1\n",
      ". . . 1 . 2 . . . .\n",
      ". . 1 . . . 1 . . .\n",
      ". 1 . . . . . 1 . .\n",
      "1 . . . . . . . 1 .\n",
      "2 2 2 1 1 1 . . . .\n",
      "Danger zones: 12\n"
     ]
    }
   ],
   "source": [
    "# Test out the functions\n",
    "vent = VentMap(10)\n",
    "ignore_diagonal = False\n",
    "vent.add_vent(\"0,9 -> 5,9\",ignore_diagonal=ignore_diagonal)\n",
    "vent.add_vent(\"8,0 -> 0,8\",ignore_diagonal=ignore_diagonal)#\n",
    "vent.add_vent(\"9,4 -> 3,4\",ignore_diagonal=ignore_diagonal)\n",
    "vent.add_vent(\"2,2 -> 2,1\",ignore_diagonal=ignore_diagonal)\n",
    "vent.add_vent(\"7,0 -> 7,4\",ignore_diagonal=ignore_diagonal)\n",
    "vent.add_vent(\"6,4 -> 2,0\",ignore_diagonal=ignore_diagonal)#\n",
    "vent.add_vent(\"0,9 -> 2,9\",ignore_diagonal=ignore_diagonal)\n",
    "vent.add_vent(\"3,4 -> 1,4\",ignore_diagonal=ignore_diagonal)\n",
    "vent.add_vent(\"0,0 -> 8,8\",ignore_diagonal=ignore_diagonal)#\n",
    "vent.add_vent(\"5,5 -> 8,2\",ignore_diagonal=ignore_diagonal)#\n",
    "vent.print_map()\n",
    "print(\"Danger zones:\",vent.count_danger_zones())"
   ]
  },
  {
   "cell_type": "code",
   "execution_count": 5,
   "metadata": {},
   "outputs": [
    {
     "data": {
      "text/plain": [
       "7380"
      ]
     },
     "execution_count": 5,
     "metadata": {},
     "output_type": "execute_result"
    }
   ],
   "source": [
    "vent = VentMap(1000)\n",
    "for txt in data:\n",
    "    vent.add_vent(txt,ignore_diagonal=True)\n",
    "vent.count_danger_zones()"
   ]
  },
  {
   "cell_type": "markdown",
   "metadata": {},
   "source": [
    "### Part 2:\n",
    "- Add diagonal lines\n",
    "- Repeat same calculation"
   ]
  },
  {
   "cell_type": "code",
   "execution_count": 6,
   "metadata": {},
   "outputs": [
    {
     "data": {
      "text/plain": [
       "21373"
      ]
     },
     "execution_count": 6,
     "metadata": {},
     "output_type": "execute_result"
    }
   ],
   "source": [
    "vent = VentMap(1000)\n",
    "for txt in data:\n",
    "    vent.add_vent(txt,ignore_diagonal=False)\n",
    "vent.count_danger_zones()"
   ]
  },
  {
   "cell_type": "code",
   "execution_count": null,
   "metadata": {},
   "outputs": [],
   "source": []
  }
 ],
 "metadata": {
  "kernelspec": {
   "display_name": "Python 3",
   "language": "python",
   "name": "python3"
  },
  "language_info": {
   "codemirror_mode": {
    "name": "ipython",
    "version": 3
   },
   "file_extension": ".py",
   "mimetype": "text/x-python",
   "name": "python",
   "nbconvert_exporter": "python",
   "pygments_lexer": "ipython3",
   "version": "3.8.6"
  }
 },
 "nbformat": 4,
 "nbformat_minor": 4
}
