{
 "cells": [
  {
   "cell_type": "markdown",
   "metadata": {},
   "source": [
    "### Day 18"
   ]
  },
  {
   "cell_type": "markdown",
   "metadata": {},
   "source": [
    "### Part 1:\n",
    "- Numbers are in nested lists\n",
    "- Add a + b = [a,b], where a and b are a number or list\n",
    "- But max depth is 3, so if a = [[[c,d]]] then need to reduce [a,b] = [[[[c,d]]],b] through these rules:\n",
    "    - Starting from left, find first number that satisfies one of these and apply it, then repeat\n",
    "    - If a pair is at depth >3, explode it:\n",
    "        - Add the left number to the number to the left (if it exists)\n",
    "        - Add the right number to the number to the right (if it exists)\n",
    "        - Put a zero where the pair was\n",
    "    - If one number is 10 or greater, reduce it:\n",
    "        - Break it into the pair [floor(x/2), ceil(x/2)]\n",
    "\n",
    "Thoughts:\n",
    "- Use strings?\n",
    "    - Simple to handle looking back/forward\n",
    "    - Difficult to handle numbers >10\n",
    "- Binary tree?\n",
    "    - Will get messy to find next/previous number"
   ]
  },
  {
   "cell_type": "code",
   "execution_count": 1,
   "metadata": {},
   "outputs": [],
   "source": [
    "def fix_explode(num):\n",
    "    \"\"\"Fix the first number pair that needs to be exploded\"\"\"\n",
    "    depth = -1\n",
    "    had_issue = False\n",
    "    \n",
    "    for ix,l in enumerate(num[:-1]):\n",
    "        if l == \"[\":\n",
    "            depth += 1\n",
    "        elif l == \"]\":\n",
    "            depth -= 1\n",
    "        elif l ==\",\":\n",
    "            continue\n",
    "            \n",
    "        if depth > 3:\n",
    "            # Explode\n",
    "            new_num = explode(num,ix)\n",
    "            had_issue = True\n",
    "            break\n",
    "\n",
    "    if had_issue:\n",
    "        num = new_num\n",
    "    \n",
    "    return had_issue, num\n",
    "\n",
    "def fix_split(num):\n",
    "    \"\"\"Fix the first number pair that needs to be exploded\"\"\"\n",
    "    had_issue = False\n",
    "    \n",
    "    for ix,l in enumerate(num[:-1]):            \n",
    "        # The number is >9 if the next part of the string is also a number\n",
    "        if (num[ix] not in \",[]\") and (num[ix+1] not in \",[]\"):\n",
    "            new_num = split(num,ix)\n",
    "            had_issue = True\n",
    "            break\n",
    "\n",
    "    if had_issue:\n",
    "        num = new_num\n",
    "    \n",
    "    return had_issue, num\n",
    "\n",
    "def fix_num_once(num):\n",
    "    \"\"\"Explode or split the number once.\"\"\"\n",
    "    # Explode if needed\n",
    "    had_issue, num = fix_explode(num)\n",
    "    \n",
    "    # Otherwise Split if needed\n",
    "    if not had_issue:\n",
    "        had_issue, num = fix_split(num)\n",
    "    return had_issue, num\n",
    "\n",
    "def fix_num(num):\n",
    "    \"\"\"Loop to fix a number.\"\"\"\n",
    "    had_issue = True\n",
    "    while had_issue:\n",
    "        had_issue, num = fix_num_once(num)\n",
    "    return num\n",
    "\n",
    "def explode(num,ix):\n",
    "    \"\"\"Apply the rules to explode a pair that has a depth that is too high\"\"\"\n",
    "    left_str = num[:ix]\n",
    "    # Find the numbers\n",
    "    split = num[ix+1:].split(\"]\",1)\n",
    "    right_str = split[1]\n",
    "    left_num, right_num = split[0].split(\",\")\n",
    "    left_num, right_num = int(left_num), int(right_num)\n",
    "    \n",
    "    # Find first number from the right and add left_num\n",
    "    new_left_str = \"\"\n",
    "    found_left_num = False\n",
    "    l_ix = 0\n",
    "    while l_ix < len(left_str):\n",
    "        l = left_str[-l_ix-1]\n",
    "        \n",
    "        if (l not in \",[]\") and (not found_left_num):\n",
    "            # Account for two digit numbers\n",
    "            if left_str[-l_ix-2] not in \",[]\":\n",
    "                l = left_str[-l_ix-2]+l\n",
    "                l_ix += 1\n",
    "            l = str(int(l)+left_num)\n",
    "            found_left_num = True\n",
    "            \n",
    "        new_left_str = l+new_left_str\n",
    "        l_ix += 1\n",
    "\n",
    "    # Find first number from the left and add right_num\n",
    "    new_right_str = \"\"\n",
    "    found_right_num = False\n",
    "    l_ix = 0\n",
    "    while l_ix < len(right_str):\n",
    "        l = right_str[l_ix]\n",
    "        \n",
    "        if (l not in \",[]\") and (not found_right_num):\n",
    "            # Account for two digit numbers\n",
    "            if right_str[l_ix+1] not in \",[]\":\n",
    "                l = l+right_str[l_ix+1]\n",
    "                l_ix += 1\n",
    "\n",
    "            l = str(int(l)+right_num)\n",
    "            found_right_num = True\n",
    "            \n",
    "        new_right_str += l\n",
    "        l_ix += 1\n",
    "\n",
    "            \n",
    "    new_num = new_left_str + \"0\" + new_right_str\n",
    "\n",
    "    return new_num\n",
    "    \n",
    "def split(num,ix):\n",
    "    \"\"\"Split a number >10 into two numbers. Assume max two digits.\"\"\"\n",
    "    left_str = num[0:ix]\n",
    "    to_split = int(num[ix:ix+2])\n",
    "    right_str = num[ix+2:]\n",
    "    \n",
    "    # Split the number in two\n",
    "    left_num = to_split//2\n",
    "    right_num = to_split//2 + (to_split %2)\n",
    "    \n",
    "    # Remake the string\n",
    "    new_num = left_str + f\"[{left_num},{right_num}]\" + right_str\n",
    "    return new_num\n",
    "\n",
    "def add(num1,num2):\n",
    "    \"\"\"Add two Snailfish numbers.\"\"\"\n",
    "    num = f\"[{num1},{num2}]\"\n",
    "    num = fix_num(num)\n",
    "    return num\n",
    "\n",
    "def read_and_add(fname):\n",
    "    \"\"\"Read a file with multiple Snailfish numbers and add them all in order.\"\"\"\n",
    "    with open(fname, \"r\") as f:\n",
    "        data = f.read().splitlines()\n",
    "        \n",
    "    num = data[0]\n",
    "    for l in data[1:]:\n",
    "        num = add(num,l)\n",
    "        \n",
    "    return num\n",
    "\n",
    "def mag_recursive(l:list):\n",
    "    \"\"\"Recursively calculate the magnitude of a snailfish number (as a list).\"\"\"\n",
    "    if isinstance(l[0],list):\n",
    "        n1 = mag_recursive(l[0])\n",
    "    else:\n",
    "        n1 = l[0]\n",
    "    \n",
    "    if isinstance(l[1],list):\n",
    "        n2 = mag_recursive(l[1])\n",
    "    else:\n",
    "        n2 = l[1]\n",
    "    \n",
    "    return 3*n1 + 2*n2\n",
    "    \n",
    "def magnitude(num_str):\n",
    "    \"\"\"Calculate magnitude of Snailfish number string.\"\"\"\n",
    "    # Turn it into a list\n",
    "    num_list = eval(num_str)\n",
    "    \n",
    "    # Now be recursive\n",
    "    mag = mag_recursive(num_list)\n",
    "\n",
    "    return mag"
   ]
  },
  {
   "cell_type": "code",
   "execution_count": 2,
   "metadata": {},
   "outputs": [],
   "source": [
    "# Test inputs\n",
    "num = \"[[[[[9,8],1],2],3],4]\" # [[[[0,9],2],3],4]\n",
    "num = \"[7,[6,[5,[4,[3,2]]]]]\" # [7,[6,[5,[7,0]]]]\n",
    "num = \"[[6,[5,[4,[3,2]]]],1]\" # [[6,[5,[7,0]]],3]\n",
    "num = \"[[3,[2,[1,[7,3]]]],[6,[5,[4,[3,2]]]]]\" # [[3,[2,[8,0]]],[9,[5,[4,[3,2]]]]] after one iteration\n",
    "# fix_num_once(num)"
   ]
  },
  {
   "cell_type": "code",
   "execution_count": 3,
   "metadata": {},
   "outputs": [
    {
     "name": "stdout",
     "output_type": "stream",
     "text": [
      "[[[[6,6],[7,6]],[[7,7],[7,0]]],[[[7,7],[7,7]],[[7,8],[9,9]]]]\n"
     ]
    },
    {
     "data": {
      "text/plain": [
       "4140"
      ]
     },
     "execution_count": 3,
     "metadata": {},
     "output_type": "execute_result"
    }
   ],
   "source": [
    "# Test inputs from a file\n",
    "num = read_and_add(\"inputs/day18_test_input.dat\")\n",
    "print(num)\n",
    "magnitude(num)"
   ]
  },
  {
   "cell_type": "code",
   "execution_count": 4,
   "metadata": {},
   "outputs": [
    {
     "name": "stdout",
     "output_type": "stream",
     "text": [
      "[[[[6,6],[7,7]],[[7,7],[7,7]]],[[[7,7],[0,7]],[[8,8],[8,7]]]]\n"
     ]
    },
    {
     "data": {
      "text/plain": [
       "4072"
      ]
     },
     "execution_count": 4,
     "metadata": {},
     "output_type": "execute_result"
    }
   ],
   "source": [
    "# Puzzle input\n",
    "num = read_and_add(\"inputs/day18_input.dat\")\n",
    "print(num)\n",
    "magnitude(num)"
   ]
  },
  {
   "cell_type": "markdown",
   "metadata": {},
   "source": [
    "### Part 2:\n",
    "- Try adding all pairs of inputs and find the max magnitude"
   ]
  },
  {
   "cell_type": "code",
   "execution_count": 5,
   "metadata": {},
   "outputs": [],
   "source": [
    "def find_max_mag(fname):\n",
    "    with open(fname, \"r\") as f:\n",
    "        data = f.read().splitlines()\n",
    "        \n",
    "    max_mag = 0\n",
    "    n = len(data)\n",
    "    \n",
    "    # Loop over all pairs\n",
    "    for ix1 in range(n):\n",
    "        for ix2 in range(n):\n",
    "            if ix1 != ix2:\n",
    "                n1 = data[ix1]\n",
    "                n2 = data[ix2]\n",
    "                \n",
    "                num = add(n1,n2)\n",
    "                mag = magnitude(num)\n",
    "                \n",
    "                max_mag = max(mag,max_mag)\n",
    "        \n",
    "    return max_mag\n"
   ]
  },
  {
   "cell_type": "code",
   "execution_count": 6,
   "metadata": {},
   "outputs": [
    {
     "data": {
      "text/plain": [
       "3993"
      ]
     },
     "execution_count": 6,
     "metadata": {},
     "output_type": "execute_result"
    }
   ],
   "source": [
    "# Test input\n",
    "find_max_mag(\"inputs/day18_test_input.dat\")"
   ]
  },
  {
   "cell_type": "code",
   "execution_count": 7,
   "metadata": {},
   "outputs": [
    {
     "data": {
      "text/plain": [
       "4483"
      ]
     },
     "execution_count": 7,
     "metadata": {},
     "output_type": "execute_result"
    }
   ],
   "source": [
    "# Puzzle input\n",
    "find_max_mag(\"inputs/day18_input.dat\")"
   ]
  },
  {
   "cell_type": "code",
   "execution_count": null,
   "metadata": {},
   "outputs": [],
   "source": []
  }
 ],
 "metadata": {
  "kernelspec": {
   "display_name": "Python 3",
   "language": "python",
   "name": "python3"
  },
  "language_info": {
   "codemirror_mode": {
    "name": "ipython",
    "version": 3
   },
   "file_extension": ".py",
   "mimetype": "text/x-python",
   "name": "python",
   "nbconvert_exporter": "python",
   "pygments_lexer": "ipython3",
   "version": "3.8.6"
  }
 },
 "nbformat": 4,
 "nbformat_minor": 4
}
