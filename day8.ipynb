{
 "cells": [
  {
   "cell_type": "markdown",
   "metadata": {},
   "source": [
    "### Day 8"
   ]
  },
  {
   "cell_type": "code",
   "execution_count": 1,
   "metadata": {},
   "outputs": [],
   "source": [
    "# Load input\n",
    "with open(\"inputs/day8_input.dat\",\"r\") as f:\n",
    "    data = f.read().splitlines()\n",
    "signals = []\n",
    "outputs = []\n",
    "for line in data:\n",
    "    ins,outs = line.split(' | ')\n",
    "    signals.append(ins.split(' '))\n",
    "    outputs.append(outs.split(' '))\n",
    "    \n",
    "# data = data[0].split(',')\n",
    "# data = [int(x) for x in data]"
   ]
  },
  {
   "cell_type": "code",
   "execution_count": 2,
   "metadata": {},
   "outputs": [
    {
     "name": "stdout",
     "output_type": "stream",
     "text": [
      "[['ec', 'cabfe', 'afebd', 'dbagef', 'afbcg', 'feabcd', 'cdef', 'eafdcbg', 'ecb', 'caegdb'], ['acfdg', 'ea', 'baec', 'dgbafec', 'cfebg', 'efa', 'cfebgd', 'dfbaeg', 'egcaf', 'abecfg']]\n",
      "[['ceb', 'ecb', 'febac', 'ec'], ['bgcdfe', 'ebac', 'cadgf', 'dceagfb']]\n"
     ]
    }
   ],
   "source": [
    "print(signals[0:2])\n",
    "print(outputs[0:2])"
   ]
  },
  {
   "cell_type": "markdown",
   "metadata": {},
   "source": [
    "### Part 1:\n",
    "- Letters in each row point to a random part of a seven-segment-display (i.e. like a digital clock digit) that is lit up.\n",
    "- The ordering of e.g. a=top, b=bottom is consistent across a line but different on each line.\n",
    "- Need to count how many times a 1,4,7 or 8 appears in the puzzle input\n",
    "\n",
    "Thoughts:\n",
    "- Number of segments per number:\n",
    "    - 0 = 6 segments on\n",
    "    - 1 = 2 segments on # unique\n",
    "    - 2 = 5 segments on\n",
    "    - 3 = 5 segments on\n",
    "    - 4 = 4 segments on\n",
    "    - 5 = 5 segments on\n",
    "    - 6 = 6 segments on\n",
    "    - 7 = 3 segments on # unique\n",
    "    - 8 = 7 segments on\n",
    "    - 9 = 6 segments on\n",
    "- If we have x number of segments, what number could it be?\n",
    "    - 2 -> 1\n",
    "    - 3 -> 7\n",
    "    - 4 -> 4\n",
    "    - 5 -> 2,3,5\n",
    "    - 6 -> 0,6,9\n",
    "    - 7 -> 8\n",
    "- So 1,4,7,8 are unique, no need to actually solve them"
   ]
  },
  {
   "cell_type": "code",
   "execution_count": 3,
   "metadata": {},
   "outputs": [
    {
     "name": "stdout",
     "output_type": "stream",
     "text": [
      "495\n"
     ]
    }
   ],
   "source": [
    "#\n",
    "count = 0\n",
    "for row in outputs:\n",
    "    for digit in row:\n",
    "        if len(digit) in [2,3,4,7]:\n",
    "            count += 1\n",
    "print(count)"
   ]
  },
  {
   "cell_type": "markdown",
   "metadata": {},
   "source": [
    "### Part 2:\n",
    "- Solve all of them\n",
    "- What is the sum of all of the output values?\n",
    "\n",
    "Thoughts:\n",
    "- Do it by hand once then program those exact steps?\n",
    "- How many possibilities for each one?\n",
    "    - 7 * 6 * 5 * 4 * 3 * 2 * 1 = 5040\n",
    "    - With 200 inputs that's only 1M checks...\n",
    "- Probably quicker to brute force"
   ]
  },
  {
   "cell_type": "code",
   "execution_count": 4,
   "metadata": {},
   "outputs": [],
   "source": [
    "# Write functions to decode, convert to a number and test a decoding sequence\n",
    "# Use a vector to represent each segment being on or off\n",
    "# decode_map is also a dictionary taking a letter to a segment position in (0,6)\n",
    "sequences = {\n",
    "    (1,1,1,0,1,1,1):0,\n",
    "    (0,0,1,0,0,1,0):1,\n",
    "    (1,0,1,1,1,0,1):2,\n",
    "    (1,0,1,1,0,1,1):3,\n",
    "    (0,1,1,1,0,1,0):4,\n",
    "    (1,1,0,1,0,1,1):5,\n",
    "    (1,1,0,1,1,1,1):6,\n",
    "    (1,0,1,0,0,1,0):7,\n",
    "    (1,1,1,1,1,1,1):8,\n",
    "    (1,1,1,1,0,1,1):9\n",
    "}\n",
    "\n",
    "def decoded_to_num(decoded, sequences):\n",
    "    try:\n",
    "        return sequences[tuple(decoded)]\n",
    "    except:\n",
    "        return -1\n",
    "\n",
    "def decode(signal, decode_map):\n",
    "    vector = [0,0,0,0,0,0,0]\n",
    "    for letter in signal:\n",
    "        vector[decode_map[letter]] = 1\n",
    "    return vector\n",
    "    \n",
    "def test_decode_map(signals, decode_map, sequences):\n",
    "    for s in signals:\n",
    "        # Decode it\n",
    "        decoded = decode(s, decode_map)\n",
    "        num = decoded_to_num(decoded, sequences)\n",
    "        if num == -1:\n",
    "            return False\n",
    "    return True"
   ]
  },
  {
   "cell_type": "code",
   "execution_count": 5,
   "metadata": {},
   "outputs": [
    {
     "name": "stdout",
     "output_type": "stream",
     "text": [
      "5040\n"
     ]
    }
   ],
   "source": [
    "# 7 short for loops are easier to write and understand than a recursive function\n",
    "all_possible_decode_maps = []\n",
    "letters = list(range(7))\n",
    "for l1 in letters:\n",
    "    for l2 in letters:\n",
    "        if l2 == l1:\n",
    "            continue\n",
    "        for l3 in letters:\n",
    "            if l3 in [l1,l2]:\n",
    "                continue\n",
    "            for l4 in letters:\n",
    "                if l4 in [l1,l2,l3]:\n",
    "                    continue\n",
    "                for l5 in letters:\n",
    "                    if l5 in [l1,l2,l3,l4]:\n",
    "                        continue\n",
    "                    for l6 in letters:\n",
    "                        if l6 in [l1,l2,l3,l4,l5]:\n",
    "                            continue\n",
    "                        for l7 in letters:\n",
    "                            if l7 in [l1,l2,l3,l4,l5,l6]:\n",
    "                                continue\n",
    "                            all_possible_decode_maps.append({\"a\":l1,\"b\":l2,\"c\":l3,\"d\":l4,\"e\":l5,\"f\":l6,\"g\":l7})\n",
    "print(len(all_possible_decode_maps))"
   ]
  },
  {
   "cell_type": "code",
   "execution_count": 6,
   "metadata": {},
   "outputs": [
    {
     "name": "stdout",
     "output_type": "stream",
     "text": [
      "It works!\n",
      "[5, 3, 5, 3]\n"
     ]
    }
   ],
   "source": [
    "test_signals = [\"acedgfb\",\"cdfbe\",\"gcdfa\",\"fbcad\",\"dab\",\"cefabd\",\"cdfgeb\",\"eafb\",\"cagedb\",\"ab\"]\n",
    "test_output = [\"cdfeb\",\"fcadb\",\"cdfeb\",\"cdbaf\"]\n",
    "for decode_map in all_possible_decode_maps:\n",
    "    works = test_decode_map(test_signals,decode_map,sequences)\n",
    "    if works:\n",
    "        print(\"It works!\")\n",
    "        result = []\n",
    "        for o in test_output:\n",
    "            decoded = decode(o, decode_map)\n",
    "            num = decoded_to_num(decoded, sequences)\n",
    "            result.append(num)\n",
    "        print(result)"
   ]
  },
  {
   "cell_type": "code",
   "execution_count": 7,
   "metadata": {},
   "outputs": [],
   "source": [
    "# Try all sequences for all of the inputs and collect the answer\n",
    "output_results = []\n",
    "running_sum = 0\n",
    "for ix,row in enumerate(signals):\n",
    "    for decode_map in all_possible_decode_maps:\n",
    "        works = test_decode_map(row,decode_map,sequences)\n",
    "        if works:\n",
    "            result = []\n",
    "            for o in outputs[ix]:\n",
    "                decoded = decode(o, decode_map)\n",
    "                num = decoded_to_num(decoded, sequences)\n",
    "                result.append(num)\n",
    "            running_sum += result[0]*1000+result[1]*100+result[2]*10+result[3]\n",
    "            output_results.append(result)\n",
    "            continue"
   ]
  },
  {
   "cell_type": "code",
   "execution_count": 8,
   "metadata": {},
   "outputs": [
    {
     "data": {
      "text/plain": [
       "1055164"
      ]
     },
     "execution_count": 8,
     "metadata": {},
     "output_type": "execute_result"
    }
   ],
   "source": [
    "running_sum"
   ]
  },
  {
   "cell_type": "code",
   "execution_count": null,
   "metadata": {},
   "outputs": [],
   "source": []
  }
 ],
 "metadata": {
  "kernelspec": {
   "display_name": "Python 3",
   "language": "python",
   "name": "python3"
  },
  "language_info": {
   "codemirror_mode": {
    "name": "ipython",
    "version": 3
   },
   "file_extension": ".py",
   "mimetype": "text/x-python",
   "name": "python",
   "nbconvert_exporter": "python",
   "pygments_lexer": "ipython3",
   "version": "3.8.6"
  }
 },
 "nbformat": 4,
 "nbformat_minor": 4
}
