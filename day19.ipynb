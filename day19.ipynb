{
 "cells": [
  {
   "cell_type": "markdown",
   "metadata": {},
   "source": [
    "### Day 19"
   ]
  },
  {
   "cell_type": "markdown",
   "metadata": {},
   "source": [
    "### Part 1:\n",
    "- Scanners can detect relative position of beacons\n",
    "- Input will be list of scanners and the beacons they can detect\n",
    "- Positions are in 3D (x,y,z)\n",
    "- Scanners also don't know their rotation in all 3 axes\n",
    "    - 24 different orientations\n",
    "    - (i.e. x axis is in one of 6 directions, then y is in one of 4, and that defines where z is)\n",
    "- Can reconstruct relative locations of scanners if two scanners have the same 12 beacons detected\n",
    "- Need to construct the full map of beacons, and count how many there are\n",
    "- Scanner range is 1000 in each direction\n",
    "\n",
    "Thoughts:\n",
    "- Make a scanner class that can map an additional scanner onto it (if at least 12 overlap)\n",
    "- Then loop through all of the scanners until we have a combined map that works\n",
    "- Work out the rotation mappings by hand? Or use rotation matrices?"
   ]
  },
  {
   "cell_type": "code",
   "execution_count": 1,
   "metadata": {},
   "outputs": [],
   "source": [
    "### Misc functions to help coordinate transformations\n",
    "def sin_cos(angle):\n",
    "    \"\"\"Return sin(angle) and cos(angle), for angle in degrees and either 0,90,180,270.\"\"\"\n",
    "    if angle == 0:\n",
    "        return 0,1\n",
    "    elif angle == 90:\n",
    "        return 1,0\n",
    "    elif angle == 180:\n",
    "        return 0,-1\n",
    "    elif angle == 270:\n",
    "        return -1,0\n",
    "\n",
    "def rotate(coords, alpha, beta, gamma):\n",
    "    \"\"\"Rotate one set of coordinates by angles alpha, beta, gamma around the (z,y,x) axes\"\"\"\n",
    "    # Taken from rotation matrix wiki page\n",
    "    sina,cosa = sin_cos(alpha)\n",
    "    sinb,cosb = sin_cos(beta)\n",
    "    sinc,cosc = sin_cos(gamma)\n",
    "\n",
    "    x,y,z = coords\n",
    "\n",
    "    newx = cosa*cosb*x + (cosa*sinb*sinc - sina*cosc)*y + (cosa*sinb*cosc + sina*sinc)*z\n",
    "    newy = sina*cosb*x + (sina*sinb*sinc + cosa*cosc)*y + (sina*sinb*cosc - cosa*sinc)*z\n",
    "    newz = -sinb*x + cosb*sinc*y + cosb*cosc*z\n",
    "\n",
    "    return [newx,newy,newz]\n",
    "\n",
    "def get_all_rotations():\n",
    "    \"\"\"Find the unique set of 24 rotations we can make to the coordinates.\"\"\"\n",
    "    angles = []\n",
    "    coords = set()\n",
    "    for a in [0,90,180,270]:\n",
    "        for b in [0,90,180,270]:\n",
    "            for c in [0,90,180,270]:\n",
    "                output = rotate([1,2,3],a,b,c)\n",
    "                output = \",\".join([str(l) for l in output])\n",
    "                if output not in coords:\n",
    "                    coords.add(output)\n",
    "                    angles.append([a,b,c])\n",
    "    return angles"
   ]
  },
  {
   "cell_type": "code",
   "execution_count": 2,
   "metadata": {},
   "outputs": [
    {
     "data": {
      "text/plain": [
       "(1, 2, 3)"
      ]
     },
     "execution_count": 2,
     "metadata": {},
     "output_type": "execute_result"
    }
   ],
   "source": [
    "x = [1,2,3]\n",
    "tuple(x)"
   ]
  },
  {
   "cell_type": "code",
   "execution_count": 3,
   "metadata": {},
   "outputs": [],
   "source": [
    "from collections import defaultdict\n",
    "class Scanner(object):\n",
    "    def __init__(self,beacons,num):\n",
    "\n",
    "        self.original_beacons = beacons # For rotations\n",
    "        self.beacons = beacons.copy()\n",
    "        self.beacon_map = set([tuple(b) for b in beacons])\n",
    "        self.num = num\n",
    "\n",
    "    def rotate_beacons(self,angles):\n",
    "        \"\"\"Rotate all detected beacons by [alpha,beta,gamma] = angles.\"\"\"\n",
    "        alpha,beta,gamma = angles\n",
    "        \n",
    "        new_beacons = []\n",
    "        for b in self.original_beacons:\n",
    "            new_beacons.append(rotate(b, alpha, beta, gamma))\n",
    "        \n",
    "        self.beacons = new_beacons\n",
    "        \n",
    "    def align_beacons(self,offset):\n",
    "        \"\"\"Loop through beacons and apply an offset [x,y,z].\"\"\"\n",
    "        x,y,z = offset\n",
    "        new_beacons = []\n",
    "        for b in self.beacons:\n",
    "            new_beacons.append([b[0]+x,b[1]+y,b[2]+z])\n",
    "        self.beacons = new_beacons\n",
    "        \n",
    "    def count_overlaps(self,scanner2):\n",
    "        \"\"\"Loop through pairs of beacons in each scanner to count how many overlap (with the best offset).\"\"\"\n",
    "        count = 0\n",
    "        offset_counts = defaultdict(int)\n",
    "        for b1 in self.beacons:\n",
    "            for b2 in scanner2.beacons:\n",
    "                offset = (b1[0]-b2[0], b1[1]-b2[1], b1[2]-b2[2])\n",
    "                offset_counts[offset] += 1\n",
    "                    \n",
    "        # Find the best overlap\n",
    "        best_counts = 0\n",
    "        for offset,count in offset_counts.items():\n",
    "            if count > best_counts:\n",
    "                best_offset = offset\n",
    "                best_counts = count\n",
    "        \n",
    "        return best_offset, best_counts\n",
    "    \n",
    "    def check_for_overlap(self,scanner2, angles):\n",
    "        \"\"\"Try some combinations of angles and check if 12 beacons overlap.\n",
    "        If so, align scanner2 to the coords of this scanner.\"\"\"\n",
    "        \n",
    "        found = False\n",
    "        offset,counts = 0,0\n",
    "        a = 0\n",
    "        for a in angles:\n",
    "            # Rotate scanner 2\n",
    "            scanner2.rotate_beacons(a)\n",
    "            # Check the overlap\n",
    "            offset, counts = self.count_overlaps(scanner2)\n",
    "            if counts >= 12:\n",
    "                found = True\n",
    "                # Align the beacons\n",
    "                scanner2.align_beacons(offset)\n",
    "                break            \n",
    "                \n",
    "        return found,offset,a,counts"
   ]
  },
  {
   "cell_type": "code",
   "execution_count": 4,
   "metadata": {},
   "outputs": [],
   "source": [
    "# Function to read the input and run the actual calculation\n",
    "def read_input(fname):\n",
    "    with open(fname, \"r\") as f:\n",
    "        data = f.read().splitlines()\n",
    "        \n",
    "    scanners = []\n",
    "    num = 0\n",
    "    for l in data:\n",
    "        if l.startswith(\"---\"):\n",
    "            # New scanner\n",
    "            beacons = []\n",
    "            \n",
    "        elif len(l) == 0:\n",
    "            # End of scanner\n",
    "            s = Scanner(beacons,num)\n",
    "            scanners.append(s)\n",
    "            num += 1\n",
    "            \n",
    "        else:\n",
    "            # Beacon to add to list\n",
    "            b = [int(a) for a in l.split(\",\")]\n",
    "            beacons.append(b)\n",
    "            \n",
    "    return scanners\n",
    "\n",
    "def align_all_scanners(scanners, verbose=True):\n",
    "    \"\"\"Combine a list of scanners so they're all on the same coordinate system\"\"\"\n",
    "    to_compare = scanners[0:1] # Start with this scanner as (0,0,0)\n",
    "    still_to_match = scanners[1:] # List of scanners still to match\n",
    "    aligned_to_grid = [] # Scanners we're done with\n",
    "    n_found = 1 # counter to stop infinite loops\n",
    "    offsets = [] # For part 2 (order isnt important)\n",
    "    \n",
    "    while (len(still_to_match)> 0) and (n_found > 0):\n",
    "        \n",
    "        n_found = 0 # Counter to stop infinite loops\n",
    "        to_compare_next_loop = []\n",
    "\n",
    "        # Loop through the list of scanners we just aligned\n",
    "        for s1 in to_compare:\n",
    "            \n",
    "            still_to_match_next_loop = []\n",
    "\n",
    "            # Find any other scanners that can be aligned with this one\n",
    "            for ix,s2 in enumerate(still_to_match):\n",
    "                found,offset,a,counts = s1.check_for_overlap(s2,angles)\n",
    "                \n",
    "                if found:\n",
    "                    # This scanner is now aligned\n",
    "                    if verbose:\n",
    "                        print(\"Found a valid coordinate system:\",s1.num,s2.num,offset,a, counts)\n",
    "                    to_compare_next_loop.append(s2)\n",
    "                    n_found += 1\n",
    "                    offsets.append(offset)\n",
    "                else:\n",
    "                    # If we didnt find a good overlap, then add it to the list for later\n",
    "                    still_to_match_next_loop.append(s2)\n",
    "                    \n",
    "            # Update the list to match\n",
    "            still_to_match = still_to_match_next_loop\n",
    "            # And move this scanner to the done column\n",
    "            aligned_to_grid.append(s1)\n",
    "\n",
    "        to_compare = to_compare_next_loop\n",
    "        \n",
    "    # Finish the list\n",
    "    aligned_to_grid.extend(to_compare)\n",
    "    \n",
    "    if len(still_to_match) >0:\n",
    "        print(\"Couldnt overlap\",len(still_to_match),\"scanners\")\n",
    "    else:\n",
    "        print(\"Overlapped all scanners!\")\n",
    "    \n",
    "    return aligned_to_grid,offsets\n",
    "\n",
    "def add_all_beacons(scanners):\n",
    "    \"\"\"Add the beacons from a set of aligned scanners\"\"\"\n",
    "    beacons = set()\n",
    "    for s in scanners:\n",
    "        for b in s.beacons:\n",
    "            beacons.add(tuple(b))\n",
    "            \n",
    "    return beacons"
   ]
  },
  {
   "cell_type": "code",
   "execution_count": 5,
   "metadata": {},
   "outputs": [],
   "source": [
    "angles = get_all_rotations()"
   ]
  },
  {
   "cell_type": "code",
   "execution_count": 6,
   "metadata": {},
   "outputs": [
    {
     "name": "stdout",
     "output_type": "stream",
     "text": [
      "Found a valid coordinate system: 0 1 (68, -1246, -43) [0, 180, 0] 12\n",
      "Found a valid coordinate system: 1 3 (-92, -2380, -20) [0, 180, 0] 12\n",
      "Found a valid coordinate system: 1 4 (-20, -1133, 1061) [0, 270, 90] 12\n",
      "Found a valid coordinate system: 4 2 (1105, -1205, 1229) [0, 180, 270] 12\n",
      "Overlapped all scanners!\n",
      "79\n"
     ]
    }
   ],
   "source": [
    "# Test input\n",
    "scanners = read_input(\"inputs/day19_test_input.dat\")\n",
    "s,_ = align_all_scanners(scanners,verbose=True)\n",
    "beacons = add_all_beacons(scanners)\n",
    "print(len(beacons))"
   ]
  },
  {
   "cell_type": "code",
   "execution_count": 7,
   "metadata": {
    "scrolled": true
   },
   "outputs": [
    {
     "name": "stdout",
     "output_type": "stream",
     "text": [
      "Overlapped all scanners!\n",
      "400\n"
     ]
    }
   ],
   "source": [
    "# Puzzle input\n",
    "scanners = read_input(\"inputs/day19_input.dat\")\n",
    "s,_ = align_all_scanners(scanners,verbose=False)\n",
    "beacons = add_all_beacons(scanners)\n",
    "print(len(beacons))"
   ]
  },
  {
   "cell_type": "markdown",
   "metadata": {},
   "source": [
    "### Part 2:\n",
    "- Find the largest manhattan distance between any two scanners\n",
    "\n",
    "Thoughts:\n",
    "- Save the offsets in the above code"
   ]
  },
  {
   "cell_type": "code",
   "execution_count": 8,
   "metadata": {},
   "outputs": [],
   "source": [
    "def find_max_distance(offsets):\n",
    "    max_distance = 0\n",
    "    \n",
    "    n = len(offsets)\n",
    "    for ix1 in range(n):\n",
    "        for ix2 in range(ix1+1,n):\n",
    "            o1 = offsets[ix1]\n",
    "            o2 = offsets[ix2]\n",
    "            \n",
    "            dist = abs(o1[0]-o2[0]) + abs(o1[1]-o2[1]) + abs(o1[2]-o2[2])\n",
    "            max_distance = max(dist,max_distance)\n",
    "    return max_distance"
   ]
  },
  {
   "cell_type": "code",
   "execution_count": 9,
   "metadata": {},
   "outputs": [
    {
     "name": "stdout",
     "output_type": "stream",
     "text": [
      "Found a valid coordinate system: 0 1 (68, -1246, -43) [0, 180, 0] 12\n",
      "Found a valid coordinate system: 1 3 (-92, -2380, -20) [0, 180, 0] 12\n",
      "Found a valid coordinate system: 1 4 (-20, -1133, 1061) [0, 270, 90] 12\n",
      "Found a valid coordinate system: 4 2 (1105, -1205, 1229) [0, 180, 270] 12\n",
      "Overlapped all scanners!\n",
      "3621\n"
     ]
    }
   ],
   "source": [
    "# Test input\n",
    "scanners = read_input(\"inputs/day19_test_input.dat\")\n",
    "s,offsets = align_all_scanners(scanners,verbose=True)\n",
    "print(find_max_distance(offsets))"
   ]
  },
  {
   "cell_type": "code",
   "execution_count": 10,
   "metadata": {},
   "outputs": [
    {
     "name": "stdout",
     "output_type": "stream",
     "text": [
      "Overlapped all scanners!\n",
      "12168\n"
     ]
    }
   ],
   "source": [
    "# Puzzle input\n",
    "scanners = read_input(\"inputs/day19_input.dat\")\n",
    "s,offsets = align_all_scanners(scanners,verbose=False)\n",
    "print(find_max_distance(offsets))"
   ]
  },
  {
   "cell_type": "code",
   "execution_count": null,
   "metadata": {},
   "outputs": [],
   "source": []
  }
 ],
 "metadata": {
  "kernelspec": {
   "display_name": "Python 3",
   "language": "python",
   "name": "python3"
  },
  "language_info": {
   "codemirror_mode": {
    "name": "ipython",
    "version": 3
   },
   "file_extension": ".py",
   "mimetype": "text/x-python",
   "name": "python",
   "nbconvert_exporter": "python",
   "pygments_lexer": "ipython3",
   "version": "3.8.6"
  }
 },
 "nbformat": 4,
 "nbformat_minor": 4
}
