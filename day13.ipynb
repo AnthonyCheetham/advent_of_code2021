{
 "cells": [
  {
   "cell_type": "markdown",
   "metadata": {},
   "source": [
    "### Day 13"
   ]
  },
  {
   "cell_type": "markdown",
   "metadata": {},
   "source": [
    "### Part 1:\n",
    "- The coords are holes in a piece of paper\n",
    "- Then fold the paper along the lines given\n",
    "- Where are the holes afterwards?\n",
    "\n",
    "Thoughts:\n",
    "- Can probably do this with modulo arithmetic\n",
    "- For folding around x= n, do modulo 2*n, then take the ones >n and make them count backwards from n"
   ]
  },
  {
   "cell_type": "code",
   "execution_count": 1,
   "metadata": {},
   "outputs": [],
   "source": [
    "class Paper(object):\n",
    "    def __init__(self, fname):\n",
    "        self.coords, self.folds = self.load_instructions(fname)\n",
    "        \n",
    "    def load_instructions(self, fname):\n",
    "        \"\"\"Reads in the input and makes lists for the dots and the folds.\"\"\"\n",
    "        with open(fname,\"r\") as f:\n",
    "            data = f.read().splitlines()\n",
    "\n",
    "        # First part of the file is coordinates\n",
    "        coords = []\n",
    "        folds = []\n",
    "        first_part = True\n",
    "        for row in data:\n",
    "            if row == \"\":\n",
    "                first_part = False\n",
    "            elif first_part:\n",
    "                coords.append([int(x) for x in row.split(\",\")])\n",
    "            else:\n",
    "                fold = row.split(\" \")[-1].split(\"=\")\n",
    "                folds.append([fold[0],int(fold[1])])\n",
    "\n",
    "        return coords,folds\n",
    "        \n",
    "    def apply_fold(self, fold_num = 0):\n",
    "        fold_axis, fold_pos = self.folds[fold_num]\n",
    "        \n",
    "        # Doesn't handle case when there's a dot along the fold axis\n",
    "        new_coords = []\n",
    "        n = len(self.coords)\n",
    "        for ix in range(n):\n",
    "            if fold_axis == \"x\":\n",
    "                newx = self.coords[ix][0] % (2*fold_pos)\n",
    "                newy = self.coords[ix][1]\n",
    "                if newx == fold_pos:\n",
    "                    newx = -100\n",
    "                elif newx > fold_pos:\n",
    "                    newx = (2*fold_pos) - newx\n",
    "            elif fold_axis == \"y\":\n",
    "                newx = self.coords[ix][0] \n",
    "                newy = self.coords[ix][1] % (2*fold_pos)\n",
    "                if newy == fold_pos:\n",
    "                    newy = -100\n",
    "                elif newy > fold_pos:\n",
    "                    newy = (2*fold_pos) - newy\n",
    "            \n",
    "            new_coords.append((newx,newy))\n",
    "            \n",
    "        # Remove any copies\n",
    "        new_coords = list(set(new_coords))\n",
    "        \n",
    "        # Save it out\n",
    "        self.coords =  new_coords\n",
    "        \n",
    "    \n",
    "    def print_paper(self):\n",
    "        # Automatically trims paper too\n",
    "        max_x = 0\n",
    "        max_y = 0\n",
    "        for row in self.coords:\n",
    "            max_x = max(row[0],max_x)\n",
    "            max_y = max(row[1],max_y)\n",
    "        \n",
    "        print_chars = [[\".\" for x in range(max_x+1)] for y in range(max_y+1)]\n",
    "        \n",
    "        for x,y in self.coords:\n",
    "            print_chars[y][x] = \"#\"\n",
    "        \n",
    "        for row in print_chars:\n",
    "            print_str = \"\".join(row)\n",
    "            print(print_str)\n",
    "    \n",
    "    def count_holes(self):\n",
    "        return len(self.coords)\n",
    "            "
   ]
  },
  {
   "cell_type": "code",
   "execution_count": 2,
   "metadata": {},
   "outputs": [
    {
     "name": "stdout",
     "output_type": "stream",
     "text": [
      "#.##..#..#.\n",
      "#...#......\n",
      "......#...#\n",
      "#...#......\n",
      ".#.#..#.###\n"
     ]
    },
    {
     "data": {
      "text/plain": [
       "17"
      ]
     },
     "execution_count": 2,
     "metadata": {},
     "output_type": "execute_result"
    }
   ],
   "source": [
    "test_paper = Paper(\"inputs/day13_test_input.dat\")\n",
    "test_paper.apply_fold(0)\n",
    "test_paper.print_paper()\n",
    "test_paper.count_holes()"
   ]
  },
  {
   "cell_type": "code",
   "execution_count": 3,
   "metadata": {},
   "outputs": [
    {
     "data": {
      "text/plain": [
       "770"
      ]
     },
     "execution_count": 3,
     "metadata": {},
     "output_type": "execute_result"
    }
   ],
   "source": [
    "paper = Paper(\"inputs/day13_input.dat\")\n",
    "paper.apply_fold(0)\n",
    "# paper.print_paper()\n",
    "paper.count_holes()"
   ]
  },
  {
   "cell_type": "markdown",
   "metadata": {},
   "source": [
    "### Part 2:\n",
    "- Apply all the folds and see what the output is"
   ]
  },
  {
   "cell_type": "code",
   "execution_count": 4,
   "metadata": {},
   "outputs": [
    {
     "name": "stdout",
     "output_type": "stream",
     "text": [
      "####.###..#..#.####.#....###..###..###.\n",
      "#....#..#.#..#.#....#....#..#.#..#.#..#\n",
      "###..#..#.#..#.###..#....#..#.###..#..#\n",
      "#....###..#..#.#....#....###..#..#.###.\n",
      "#....#....#..#.#....#....#....#..#.#.#.\n",
      "####.#.....##..####.####.#....###..#..#\n"
     ]
    },
    {
     "data": {
      "text/plain": [
       "102"
      ]
     },
     "execution_count": 4,
     "metadata": {},
     "output_type": "execute_result"
    }
   ],
   "source": [
    "paper = Paper(\"inputs/day13_input.dat\")\n",
    "n_folds = len(paper.folds)\n",
    "for ix in range(n_folds):\n",
    "    paper.apply_fold(ix)\n",
    "paper.print_paper()\n",
    "paper.count_holes()"
   ]
  },
  {
   "cell_type": "code",
   "execution_count": null,
   "metadata": {},
   "outputs": [],
   "source": []
  }
 ],
 "metadata": {
  "kernelspec": {
   "display_name": "Python 3",
   "language": "python",
   "name": "python3"
  },
  "language_info": {
   "codemirror_mode": {
    "name": "ipython",
    "version": 3
   },
   "file_extension": ".py",
   "mimetype": "text/x-python",
   "name": "python",
   "nbconvert_exporter": "python",
   "pygments_lexer": "ipython3",
   "version": "3.8.6"
  }
 },
 "nbformat": 4,
 "nbformat_minor": 4
}
