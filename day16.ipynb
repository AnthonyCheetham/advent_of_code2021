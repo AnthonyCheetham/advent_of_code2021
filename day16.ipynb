{
 "cells": [
  {
   "cell_type": "markdown",
   "metadata": {},
   "source": [
    "### Day 16"
   ]
  },
  {
   "cell_type": "markdown",
   "metadata": {},
   "source": [
    "### Part 1:\n",
    "- Turn hex into binary\n",
    "- Process binary with some pretty complex rules that I won't type out\n",
    "    - Each binary \"packet\" can be made of subpackets\n",
    "    - Each packet/subpacket needs to be processed according to some rules defined by their header\n",
    "    - Can have arbitrary number of extra bits at the end\n",
    "- Sum the version number of each packet/subpacket"
   ]
  },
  {
   "cell_type": "code",
   "execution_count": 1,
   "metadata": {},
   "outputs": [],
   "source": [
    "class Decoder(object):\n",
    "    def __init__(self, fname=None, verbose=False):\n",
    "        \n",
    "        if fname is not None:\n",
    "            with open(fname, \"r\") as f:\n",
    "                data = f.read().splitlines()\n",
    "            \n",
    "            self.hex_packet = data\n",
    "        self.total_packet_version = 0\n",
    "        self.verbose = verbose\n",
    "        \n",
    "    def hex_to_bin(self, hex_packet):\n",
    "        \"\"\"Convert the packet to binary\"\"\"\n",
    "        bin_output = \"\"\n",
    "        for digit in hex_packet:\n",
    "            bin_output += bin(int(digit,16))[2:].zfill(4)\n",
    "        return bin_output\n",
    "        \n",
    "    def process_packet_type_4(self, packet):\n",
    "        \"\"\"Return the literal value in a packet or subpacket\"\"\"\n",
    "        # Literal value\n",
    "        literal = \"\"\n",
    "\n",
    "        # Loop through the number and build the value\n",
    "        start_ix = 0\n",
    "        still_looking = True\n",
    "        while still_looking:\n",
    "            # Take next 5 digits\n",
    "            digits = packet[start_ix:start_ix+5]\n",
    "\n",
    "            # If it starts with a zero this is the end\n",
    "            if digits[0] == \"0\":\n",
    "                still_looking = False\n",
    "\n",
    "            literal += digits[1:]\n",
    "            start_ix += 5\n",
    "\n",
    "        # Convert to decimal\n",
    "        output = int(literal,2)\n",
    "        \n",
    "        remaining_packet = packet[start_ix:]\n",
    "        \n",
    "        return output, remaining_packet\n",
    "    \n",
    "        \n",
    "    def decode_packet(self, hex_packet, is_binary=False):\n",
    "        \"\"\"Decode and process the packet.\"\"\"\n",
    "        # Convert from hex to binary\n",
    "        if is_binary:\n",
    "            packet = hex_packet\n",
    "        else:\n",
    "            packet = self.hex_to_bin(hex_packet)\n",
    "        \n",
    "        if self.verbose:\n",
    "            print(\"Current packet:\",packet)\n",
    "\n",
    "        packet_version = int(packet[0:3],2)\n",
    "        packet_type = int(packet[3:6],2)\n",
    "        \n",
    "        self.total_packet_version += packet_version\n",
    "        remaining_packet = \"\"\n",
    "\n",
    "        if packet_type == 4:\n",
    "            output, remaining_packet = self.process_packet_type_4(packet[6:])\n",
    "            if self.verbose:\n",
    "                print(\"Literal packet:\",output)\n",
    "            \n",
    "        else:\n",
    "            # Operator packet\n",
    "            packet_length_type_id = packet[6]\n",
    "            if packet_length_type_id == \"0\":\n",
    "                tot_len = int(packet[7:22],2)\n",
    "                if self.verbose:\n",
    "                    print(\"Operator packet, subpacket length\",tot_len,\"bits\")\n",
    "                \n",
    "                # Process the subpackets\n",
    "                remaining_subpacket = packet[22:22+tot_len]\n",
    "                remaining_packet = packet[22+tot_len:]# Not part of this group of subpackets\n",
    "                output = []\n",
    "                while len(remaining_subpacket) > 0:\n",
    "                    result = self.decode_packet(remaining_subpacket, is_binary=True)\n",
    "                    subpacket_output, remaining_subpacket = result\n",
    "                    output.append(subpacket_output)\n",
    "                \n",
    "            else:\n",
    "                num_subpackets = int(packet[7:18],2)\n",
    "                if self.verbose:\n",
    "                    print(\"Operator packet with\",num_subpackets,\"subpackets\")\n",
    "                \n",
    "                # Process the subpackets\n",
    "                remaining_packet = packet[18:]\n",
    "                output = []\n",
    "                for ix in range(num_subpackets):\n",
    "                    result = self.decode_packet(remaining_packet, is_binary=True)\n",
    "                    subpacket_output, remaining_packet = result\n",
    "                    output.append(subpacket_output)\n",
    "                    \n",
    "            # If it's an operator packet we need to process the subpackets\n",
    "            # (For part 2)\n",
    "            output = self.process_operator_packet_result(output, packet_type)\n",
    "                \n",
    "        return int(output),remaining_packet\n",
    "\n",
    "    def process_operator_packet_result(self,packet_vals, packet_type):\n",
    "        \"\"\"Handle the output of an operator packet\"\"\"\n",
    "        if packet_type == 0:\n",
    "            # Sum the results\n",
    "            return sum(packet_vals)\n",
    "        \n",
    "        elif packet_type == 1:\n",
    "            # Multiply the results\n",
    "            output = 1\n",
    "            for val in packet_vals:\n",
    "                output *= val\n",
    "        \n",
    "        elif packet_type == 2:\n",
    "            # Take minimum value\n",
    "            output = min(packet_vals)\n",
    "            \n",
    "        elif packet_type == 3:\n",
    "            # Take maximum value\n",
    "            output = max(packet_vals)\n",
    "            \n",
    "        elif packet_type == 5:\n",
    "            # 1 if val[0] > val[1]\n",
    "            output = 1*(packet_vals[0] > packet_vals[1])\n",
    "        \n",
    "        elif packet_type == 6:\n",
    "            # 1 if val[0] < val[1]\n",
    "            output = 1*(packet_vals[0] < packet_vals[1])\n",
    "\n",
    "        elif packet_type == 7:\n",
    "            # 1 if val[0] == val[1]\n",
    "            output = 1*(packet_vals[0] == packet_vals[1])\n",
    "        return output"
   ]
  },
  {
   "cell_type": "code",
   "execution_count": 2,
   "metadata": {},
   "outputs": [
    {
     "name": "stdout",
     "output_type": "stream",
     "text": [
      "(54, '0000000')\n",
      "31\n"
     ]
    }
   ],
   "source": [
    "# Test inputs\n",
    "hex_packet = \"D2FE28\" # Literal 2021\n",
    "hex_packet = \"38006F45291200\" # Operator type id 0 with subpackets 10 and 20\n",
    "hex_packet = \"EE00D40C823060\" # Operator type id 1 with subpackets 1,2,3\n",
    "hex_packet = \"8A004A801A8002F478\" # version sum 16\n",
    "hex_packet = \"620080001611562C8802118E34\" # version sum 12\n",
    "hex_packet = \"C0015000016115A2E0802F182340\" # version sum 23\n",
    "hex_packet = \"A0016C880162017C3686B18A3D4780\" # version sum 31\n",
    "d = Decoder(verbose=False)\n",
    "print(d.decode_packet(hex_packet))\n",
    "print(d.total_packet_version)"
   ]
  },
  {
   "cell_type": "code",
   "execution_count": 3,
   "metadata": {},
   "outputs": [
    {
     "name": "stdout",
     "output_type": "stream",
     "text": [
      "843\n"
     ]
    }
   ],
   "source": [
    "# Puzzle input\n",
    "d = Decoder(fname=\"inputs/day16_input.dat\",verbose=False)\n",
    "d.decode_packet(d.hex_packet[0]);\n",
    "print(d.total_packet_version)"
   ]
  },
  {
   "cell_type": "markdown",
   "metadata": {},
   "source": [
    "### Part 2:\n",
    "- Previous part ignored the processing of the packets/subpackets\n",
    "- Rules for adding, multiplying, >, <, min, max etc.\n",
    "- Add the operator processing to the previous code"
   ]
  },
  {
   "cell_type": "code",
   "execution_count": 4,
   "metadata": {},
   "outputs": [
    {
     "name": "stdout",
     "output_type": "stream",
     "text": [
      "(1, '00')\n"
     ]
    }
   ],
   "source": [
    "# Test inputs\n",
    "hex_packet = \"C200B40A82\" # Result 3\n",
    "hex_packet = \"04005AC33890\" # Result 54\n",
    "hex_packet = \"880086C3E88112\" # Result 7\n",
    "hex_packet = \"CE00C43D881120\" # Result 9\n",
    "hex_packet = \"D8005AC2A8F0\" # Result 1\n",
    "hex_packet = \"F600BC2D8F\" # Result 0\n",
    "hex_packet = \"9C005AC2F8F0\" # Result 0\n",
    "hex_packet = \"9C0141080250320F1802104A08\" # Result 1\n",
    "d = Decoder(verbose=False)\n",
    "print(d.decode_packet(hex_packet))"
   ]
  },
  {
   "cell_type": "code",
   "execution_count": 5,
   "metadata": {},
   "outputs": [
    {
     "data": {
      "text/plain": [
       "(5390807940351, '00')"
      ]
     },
     "execution_count": 5,
     "metadata": {},
     "output_type": "execute_result"
    }
   ],
   "source": [
    "# Puzzle input\n",
    "d = Decoder(fname=\"inputs/day16_input.dat\",verbose=False)\n",
    "d.decode_packet(d.hex_packet[0])"
   ]
  },
  {
   "cell_type": "code",
   "execution_count": null,
   "metadata": {},
   "outputs": [],
   "source": []
  }
 ],
 "metadata": {
  "kernelspec": {
   "display_name": "Python 3",
   "language": "python",
   "name": "python3"
  },
  "language_info": {
   "codemirror_mode": {
    "name": "ipython",
    "version": 3
   },
   "file_extension": ".py",
   "mimetype": "text/x-python",
   "name": "python",
   "nbconvert_exporter": "python",
   "pygments_lexer": "ipython3",
   "version": "3.8.6"
  }
 },
 "nbformat": 4,
 "nbformat_minor": 4
}
