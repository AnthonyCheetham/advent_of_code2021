{
 "cells": [
  {
   "cell_type": "markdown",
   "metadata": {},
   "source": [
    "### Day 4:"
   ]
  },
  {
   "cell_type": "code",
   "execution_count": 1,
   "metadata": {},
   "outputs": [],
   "source": [
    "# Load input\n",
    "with open(\"inputs/day4_input.dat\",\"r\") as f:\n",
    "    data = f.read().splitlines() "
   ]
  },
  {
   "cell_type": "code",
   "execution_count": 2,
   "metadata": {},
   "outputs": [],
   "source": [
    "# Loop through the input and get it in a format we can use\n",
    "# 1D boards are fine\n",
    "boards = []\n",
    "for ix, line in enumerate(data):\n",
    "    # First line is the bingo number sequence:\n",
    "    if ix == 0:\n",
    "        bingo_numbers = [int(x) for x in data[ix].split(',')]\n",
    "    elif ix == 1:\n",
    "        new_board = []\n",
    "    elif line == '':\n",
    "        boards.append(new_board)\n",
    "        new_board = []\n",
    "    else:\n",
    "        # Single digits have two spaces\n",
    "        nums = line.strip().replace('  ',' ').split(' ')\n",
    "        nums = [int(x) for x in nums]\n",
    "        new_board.extend(nums)\n",
    "\n",
    "# And add the last board\n",
    "boards.append(new_board)\n",
    "        \n",
    "n_boards = len(boards)\n",
    "size_boards = len(boards[0])"
   ]
  },
  {
   "cell_type": "code",
   "execution_count": 3,
   "metadata": {},
   "outputs": [
    {
     "name": "stdout",
     "output_type": "stream",
     "text": [
      "100\n",
      "25\n"
     ]
    }
   ],
   "source": [
    "print(n_boards)\n",
    "print(size_boards)"
   ]
  },
  {
   "cell_type": "markdown",
   "metadata": {},
   "source": [
    "### Part 1:\n",
    "- Find the first winning board when the numbers are called out one at a time\n",
    "- Calculate the score as the sum of unmarked numbers on that board multiplied by last number called\n",
    "\n",
    "Plan:\n",
    "- Class with array for board.\n",
    "    - Only need unmarked numbers at end so can turn to -1 when a number comes up\n",
    "    - Check by summing rows/columns and looking for -5\n",
    "    - Probably slow but only 100 inputs so should be doable"
   ]
  },
  {
   "cell_type": "code",
   "execution_count": 4,
   "metadata": {},
   "outputs": [],
   "source": [
    "class BingoBoard(object):\n",
    "    def __init__(self,board,board_num=0):\n",
    "        #board is a flattened 5x5 bingo board\n",
    "        self.board = board\n",
    "        self.size = 5\n",
    "        self.board_num = board_num\n",
    "    \n",
    "    def mark_number(self, num):\n",
    "        self.board = [-1 if x is num else x for x in self.board]\n",
    "    \n",
    "    def check_bingo(self, verbose=True):\n",
    "        # Rows (e.g. 0,1,2,3,4)\n",
    "        for ix in range(self.size):\n",
    "            row = self.board[ix*self.size:(ix+1)*self.size]\n",
    "            if sum(row) == -self.size:\n",
    "                if verbose:\n",
    "                    print(\"Bingo!\")\n",
    "                return True\n",
    "        \n",
    "        # Columns (e.g. 0,5,10,15,20)\n",
    "        for ix in range(self.size):\n",
    "            col = self.board[ix::self.size]\n",
    "            if sum(col) == -self.size:\n",
    "                if verbose:\n",
    "                    print(\"Bingo!\")\n",
    "                return True\n",
    "        return False\n",
    "    \n",
    "    def remaining_sum(self):\n",
    "        score = 0\n",
    "        for num in self.board:\n",
    "            if num != -1:\n",
    "                score += num\n",
    "        return score"
   ]
  },
  {
   "cell_type": "code",
   "execution_count": 5,
   "metadata": {},
   "outputs": [
    {
     "name": "stdout",
     "output_type": "stream",
     "text": [
      "[14, 33, 79, 61, 44, 85, 60, 38, 13, 48, 51, 34, 11, 19, 7, 21, 30, 73, 6, 76, 41, 4, 65, 18, 91]\n",
      "Adding 14\n",
      "Adding 85\n",
      "Adding 51\n",
      "Adding 21\n",
      "Adding 41\n",
      "Bingo!\n"
     ]
    }
   ],
   "source": [
    "# Test it out on a board.\n",
    "board = BingoBoard(boards[0])\n",
    "print(board.board)\n",
    "for x in [14,85,51,21,41]: # First column bingo\n",
    "    print(\"Adding\",x)\n",
    "    board.mark_number(x)\n",
    "    board.check_bingo()\n",
    "# It works!"
   ]
  },
  {
   "cell_type": "code",
   "execution_count": 6,
   "metadata": {},
   "outputs": [],
   "source": [
    "# Make all the boards:\n",
    "all_boards = []\n",
    "for board in boards:\n",
    "    all_boards.append(BingoBoard(board))"
   ]
  },
  {
   "cell_type": "code",
   "execution_count": 7,
   "metadata": {},
   "outputs": [
    {
     "name": "stdout",
     "output_type": "stream",
     "text": [
      "Bingo!\n",
      "Bingo on num: 29\n",
      "Board number: 93\n",
      "Score: 27027\n"
     ]
    }
   ],
   "source": [
    "# Loop through the input numbers and check them all\n",
    "for ix,num in enumerate(bingo_numbers):\n",
    "    for board_ix in range(n_boards):\n",
    "        board = all_boards[board_ix]\n",
    "        board.mark_number(num)\n",
    "        has_bingo = board.check_bingo()\n",
    "        all_boards[board_ix] = board\n",
    "        if has_bingo:\n",
    "            break\n",
    "    \n",
    "    # Need to break out of 2 loops\n",
    "    if has_bingo:\n",
    "        break\n",
    "if has_bingo:\n",
    "    remaining = board.remaining_sum()\n",
    "    score = remaining*num\n",
    "    print(\"Bingo on num:\",ix)\n",
    "    print(\"Board number:\",board_ix)\n",
    "    print(\"Score:\",score)"
   ]
  },
  {
   "cell_type": "markdown",
   "metadata": {},
   "source": [
    "### Part 2:\n",
    "- Which board will win last?\n",
    "- What is its score?"
   ]
  },
  {
   "cell_type": "code",
   "execution_count": 8,
   "metadata": {},
   "outputs": [],
   "source": [
    "# Remake all the boards:\n",
    "all_boards = []\n",
    "for ix,board in enumerate(boards):\n",
    "    all_boards.append(BingoBoard(board, board_num=ix))"
   ]
  },
  {
   "cell_type": "code",
   "execution_count": 9,
   "metadata": {},
   "outputs": [
    {
     "name": "stdout",
     "output_type": "stream",
     "text": [
      "Final bingo after num = 87\n",
      "Final board: 21\n",
      "Score: 36975\n"
     ]
    }
   ],
   "source": [
    "# Loop through the input numbers and check them all\n",
    "bingo_after = n_boards*[-1]\n",
    "scores = n_boards*[0]\n",
    "n_bingos = 0\n",
    "\n",
    "for ix,num in enumerate(bingo_numbers):\n",
    "    for board_ix,board in enumerate(all_boards):\n",
    "        # If it already got bingo, skip it\n",
    "        if bingo_after[board_ix] != -1:\n",
    "            continue\n",
    "        else:\n",
    "\n",
    "            board.mark_number(num)\n",
    "            has_bingo = board.check_bingo(False)\n",
    "\n",
    "            # If it got bingo, record the score\n",
    "            if has_bingo:\n",
    "                remaining = board.remaining_sum()\n",
    "                score = remaining*num\n",
    "                bingo_after[board_ix] = ix\n",
    "                scores[board_ix] = score\n",
    "                n_bingos += 1\n",
    "    if n_bingos == 100:\n",
    "        final_num = num\n",
    "        final_loop = ix\n",
    "        print(\"Final bingo after num =\",final_num)\n",
    "        break\n",
    "for ix,a in enumerate(bingo_after):\n",
    "    if a == final_loop:\n",
    "        board_ix = ix\n",
    "print(\"Final board:\",board_ix)\n",
    "print(\"Score:\",scores[board_ix])"
   ]
  },
  {
   "cell_type": "code",
   "execution_count": null,
   "metadata": {},
   "outputs": [],
   "source": []
  }
 ],
 "metadata": {
  "kernelspec": {
   "display_name": "Python 3",
   "language": "python",
   "name": "python3"
  },
  "language_info": {
   "codemirror_mode": {
    "name": "ipython",
    "version": 3
   },
   "file_extension": ".py",
   "mimetype": "text/x-python",
   "name": "python",
   "nbconvert_exporter": "python",
   "pygments_lexer": "ipython3",
   "version": "3.8.6"
  }
 },
 "nbformat": 4,
 "nbformat_minor": 4
}
