{
 "cells": [
  {
   "cell_type": "markdown",
   "metadata": {},
   "source": [
    "### Day 11"
   ]
  },
  {
   "cell_type": "markdown",
   "metadata": {},
   "source": [
    "### Part 1:\n",
    "- One step:\n",
    "    1. Increase each number by 1\n",
    "    2. All octopuses with >9 increase all of their neighbors by 1 (they flash)\n",
    "    3. Keep repeating step 2 until no new octopuses reach 10 and flash\n",
    "    4. Reset all values >9 to 0\n",
    "- How many flashes after 100 steps?"
   ]
  },
  {
   "cell_type": "code",
   "execution_count": 1,
   "metadata": {},
   "outputs": [],
   "source": [
    "class OctoGrid(object):\n",
    "    def __init__(self,fname):\n",
    "        with open(fname,\"r\") as f:\n",
    "            data = f.read().splitlines()\n",
    "\n",
    "        self.grid = [[int(x) for x in row] for row in data]\n",
    "        self.grid_sz = len(self.grid)\n",
    "        self.steps = 0\n",
    "        self.flashes = 0\n",
    "        \n",
    "    def flash_neighbors(self,x,y):\n",
    "        \"\"\"Handle edge-of-array cases with an octopus flashing.\"\"\"\n",
    "        for delx in [-1,0,1]:\n",
    "            for dely in [-1,0,1]:\n",
    "                # don't increase it's own energy level\n",
    "                if delx == dely == 0:\n",
    "                    continue\n",
    "                xflash = x+delx\n",
    "                yflash = y+dely\n",
    "                # Check edge of array\n",
    "                if xflash>=0 and xflash<self.grid_sz and yflash>=0 and yflash<self.grid_sz:\n",
    "                    self.grid[xflash][yflash] += 1\n",
    "\n",
    "    \n",
    "    def one_step(self):\n",
    "        \"\"\"Simulate one step\"\"\"\n",
    "        # 1. Increase each number by 1\n",
    "        self.grid = [[x+1 for x in row] for row in self.grid]\n",
    "        \n",
    "        # 2. Find all with >9 and increase their neighbors by 1\n",
    "        # Repeat until no new flashes\n",
    "        has_flashed = [[False for x in row] for row in self.grid]\n",
    "        flashes_this_step = 0\n",
    "        flashes = 999\n",
    "        loops = 0\n",
    "        while flashes > 0 and loops < 20:\n",
    "            flashes = 0\n",
    "            for x in range(self.grid_sz):\n",
    "                for y in range(self.grid_sz):\n",
    "                    if self.grid[x][y] > 9 and not has_flashed[x][y]:\n",
    "                        self.flash_neighbors(x,y)\n",
    "                        flashes += 1\n",
    "                        has_flashed[x][y] = True\n",
    "            self.flashes += flashes\n",
    "            flashes_this_step += flashes\n",
    "            loops += 1\n",
    "        \n",
    "        # 3. Reset all of those that flashed\n",
    "        for x in range(self.grid_sz):\n",
    "            for y in range(self.grid_sz):\n",
    "                if self.grid[x][y] > 9:\n",
    "                    self.grid[x][y] = 0\n",
    "        \n",
    "        self.steps += 1 \n",
    "        return flashes_this_step\n",
    "    \n",
    "    def run_steps(self,n,check_if_all_flashing=False):\n",
    "        for ix in range(n):\n",
    "            n_step_flashes = self.one_step()\n",
    "            if check_if_all_flashing:\n",
    "                if n_step_flashes == (self.grid_sz*self.grid_sz):\n",
    "                    print(\"All flashed at step\",self.steps)\n",
    "                    return True\n",
    "        print(n,\"steps,\",self.flashes,\"flashes\")\n",
    "    \n",
    "    def print(self):\n",
    "        for row in self.grid:\n",
    "            print(\"\".join([str(x) for x in row]))"
   ]
  },
  {
   "cell_type": "code",
   "execution_count": 2,
   "metadata": {},
   "outputs": [
    {
     "name": "stdout",
     "output_type": "stream",
     "text": [
      "100 steps, 1656 flashes\n",
      "0397666866\n",
      "0749766918\n",
      "0053976933\n",
      "0004297822\n",
      "0004229892\n",
      "0053222877\n",
      "0532222966\n",
      "9322228966\n",
      "7922286866\n",
      "6789998766\n"
     ]
    }
   ],
   "source": [
    "# Test\n",
    "test_grid = OctoGrid(\"inputs/day11_test_input.dat\")\n",
    "\n",
    "# test_grid.one_step()\n",
    "# test_grid.print()\n",
    "# print()\n",
    "# test_grid.one_step()\n",
    "# test_grid.print()\n",
    "# print(test_grid.flashes)\n",
    "# print()\n",
    "\n",
    "test_grid.run_steps(100)\n",
    "test_grid.print()"
   ]
  },
  {
   "cell_type": "code",
   "execution_count": 3,
   "metadata": {},
   "outputs": [
    {
     "name": "stdout",
     "output_type": "stream",
     "text": [
      "100 steps, 1721 flashes\n"
     ]
    }
   ],
   "source": [
    "grid = OctoGrid(\"inputs/day11_input.dat\")\n",
    "grid.run_steps(100)"
   ]
  },
  {
   "cell_type": "markdown",
   "metadata": {},
   "source": [
    "### Part 2: \n",
    "- Find the first step at which all of the octopuses are flashing at the same time\n"
   ]
  },
  {
   "cell_type": "code",
   "execution_count": 4,
   "metadata": {},
   "outputs": [
    {
     "name": "stdout",
     "output_type": "stream",
     "text": [
      "All flashed at step 298\n"
     ]
    },
    {
     "data": {
      "text/plain": [
       "True"
      ]
     },
     "execution_count": 4,
     "metadata": {},
     "output_type": "execute_result"
    }
   ],
   "source": [
    "# Edited code above\n",
    "grid = OctoGrid(\"inputs/day11_input.dat\")\n",
    "grid.run_steps(1000,check_if_all_flashing=True)"
   ]
  },
  {
   "cell_type": "code",
   "execution_count": null,
   "metadata": {},
   "outputs": [],
   "source": []
  }
 ],
 "metadata": {
  "kernelspec": {
   "display_name": "Python 3",
   "language": "python",
   "name": "python3"
  },
  "language_info": {
   "codemirror_mode": {
    "name": "ipython",
    "version": 3
   },
   "file_extension": ".py",
   "mimetype": "text/x-python",
   "name": "python",
   "nbconvert_exporter": "python",
   "pygments_lexer": "ipython3",
   "version": "3.8.6"
  }
 },
 "nbformat": 4,
 "nbformat_minor": 4
}
