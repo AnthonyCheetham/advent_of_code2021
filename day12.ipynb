{
 "cells": [
  {
   "cell_type": "markdown",
   "metadata": {},
   "source": [
    "### Day 12"
   ]
  },
  {
   "cell_type": "markdown",
   "metadata": {},
   "source": [
    "### Part 1:\n",
    "- Find all possible paths through the cave\n",
    "- can only visit small caves (with lowercase letters) once per path"
   ]
  },
  {
   "cell_type": "code",
   "execution_count": 70,
   "metadata": {},
   "outputs": [],
   "source": [
    "from collections import defaultdict\n",
    "class Cave(object):\n",
    "    def __init__(self, fname, is_part_two = False):\n",
    "        # Load the cave map and make a dictionary with all connections\n",
    "        with open(fname,\"r\") as f:\n",
    "            data = f.read().splitlines()\n",
    "            \n",
    "        self.connections = defaultdict(list)\n",
    "        for row in data:\n",
    "            c1,c2 = row.split('-')\n",
    "            \n",
    "            self.connections[c1].append(c2)\n",
    "                \n",
    "            if c1 != 'start' and c2 != 'end':\n",
    "                self.connections[c2].append(c1)\n",
    "        \n",
    "        self.is_part_two = is_part_two\n",
    "                \n",
    "    def decide_if_ok(self, this_path, new_path, l):\n",
    "        \"\"\"Check to see if a proposed path satisfies the rules\"\"\"\n",
    "        if not self.is_part_two:\n",
    "            # For part one\n",
    "            # Check it's not a small cave already on the path\n",
    "            if l.lower() == l and l in this_path:\n",
    "                return False\n",
    "            else:\n",
    "                return True\n",
    "        else:\n",
    "            # For part two:\n",
    "            # Check the new path wouldn't have two small caves visited twice\n",
    "            small_caves = [c for c in new_path if c == c.lower()]\n",
    "            duplicates = 0\n",
    "            for c in small_caves:\n",
    "                if small_caves.count(c) >= 2:\n",
    "                    duplicates +=1\n",
    "            \n",
    "            # One duplicate will show up twice in the list\n",
    "            if duplicates > 2:\n",
    "                return False\n",
    "            else:\n",
    "                return True\n",
    "    \n",
    "    \n",
    "    def find_all_paths(self):\n",
    "        \"\"\"Width first pathfinding algorithm.\"\"\"\n",
    "        \n",
    "        # to_search is a list of paths to continue exploring\n",
    "        # Each element is a list of places that the path has gone through\n",
    "        to_search = [['start']]\n",
    "        \n",
    "        complete_paths_list = []\n",
    "        complete_paths = 0\n",
    "        \n",
    "        while len(to_search) > 0:\n",
    "            # Take the next element\n",
    "            this_path = to_search.pop(0)\n",
    "            \n",
    "            # Find all linking paths\n",
    "            current_point = this_path[-1]\n",
    "            links = self.connections[current_point]\n",
    "            \n",
    "            # Loop through and work out what to do\n",
    "            for l in links:\n",
    "                new_path = this_path.copy()\n",
    "                new_path.append(l)\n",
    "                \n",
    "                # 1. We've reached the end\n",
    "                if l == \"end\":\n",
    "                    complete_paths_list.append(new_path)\n",
    "                    complete_paths += 1\n",
    "\n",
    "                elif self.decide_if_ok(this_path, new_path, l):\n",
    "                    to_search.append(new_path)\n",
    "        \n",
    "        return complete_paths, complete_paths_list\n",
    "            \n",
    "            \n",
    "        \n",
    "        \n",
    "        "
   ]
  },
  {
   "cell_type": "code",
   "execution_count": 71,
   "metadata": {},
   "outputs": [
    {
     "name": "stdout",
     "output_type": "stream",
     "text": [
      "10\n"
     ]
    }
   ],
   "source": [
    "cave = Cave(\"inputs/day12_test_input.dat\")\n",
    "complete_paths, complete_paths_list = cave.find_all_paths()\n",
    "# print(complete_paths_list)\n",
    "print(complete_paths)"
   ]
  },
  {
   "cell_type": "code",
   "execution_count": 72,
   "metadata": {},
   "outputs": [
    {
     "name": "stdout",
     "output_type": "stream",
     "text": [
      "5178\n"
     ]
    }
   ],
   "source": [
    "cave = Cave(\"inputs/day12_input.dat\")\n",
    "complete_paths, complete_paths_list = cave.find_all_paths()\n",
    "# print(complete_paths_list)\n",
    "print(complete_paths)"
   ]
  },
  {
   "cell_type": "markdown",
   "metadata": {},
   "source": [
    "### Part 2:\n",
    "- Now can visit one small cave once per run\n",
    "- Still can't revisit start or end cave"
   ]
  },
  {
   "cell_type": "code",
   "execution_count": 76,
   "metadata": {},
   "outputs": [
    {
     "name": "stdout",
     "output_type": "stream",
     "text": [
      "156\n"
     ]
    }
   ],
   "source": [
    "cave = Cave(\"inputs/day12_test_input.dat\",is_part_two=True)\n",
    "complete_paths, complete_paths_list = cave.find_all_paths()\n",
    "# for p in complete_paths_list:\n",
    "#     print(p)\n",
    "print(complete_paths)"
   ]
  },
  {
   "cell_type": "code",
   "execution_count": 78,
   "metadata": {},
   "outputs": [
    {
     "name": "stdout",
     "output_type": "stream",
     "text": [
      "130094\n"
     ]
    }
   ],
   "source": [
    "cave = Cave(\"inputs/day12_input.dat\", is_part_two=True)\n",
    "complete_paths, complete_paths_list = cave.find_all_paths()\n",
    "print(complete_paths)"
   ]
  },
  {
   "cell_type": "code",
   "execution_count": null,
   "metadata": {},
   "outputs": [],
   "source": []
  }
 ],
 "metadata": {
  "kernelspec": {
   "display_name": "Python 3",
   "language": "python",
   "name": "python3"
  },
  "language_info": {
   "codemirror_mode": {
    "name": "ipython",
    "version": 3
   },
   "file_extension": ".py",
   "mimetype": "text/x-python",
   "name": "python",
   "nbconvert_exporter": "python",
   "pygments_lexer": "ipython3",
   "version": "3.8.6"
  }
 },
 "nbformat": 4,
 "nbformat_minor": 4
}
