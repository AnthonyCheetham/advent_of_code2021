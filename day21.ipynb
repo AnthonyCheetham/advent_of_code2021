{
 "cells": [
  {
   "cell_type": "markdown",
   "metadata": {},
   "source": [
    "### Day 21"
   ]
  },
  {
   "cell_type": "markdown",
   "metadata": {},
   "source": [
    "### Part 1:\n",
    "- Dirac Dice:\n",
    "    - Circular track with 10 spaces (1-10, not zero)\n",
    "    - Random starting space\n",
    "    - On your turn:\n",
    "        - Roll 3 times and add up the result\n",
    "        - Move that many spaces forward\n",
    "        - Increase score by the number on the board\n",
    "        - First player to reach 1000 wins\n",
    "   - But we're using a deterministic die that rolls 1, 2, 3, etc. up to 100.\n",
    "   - Answer is losing score * number of dice rolls\n",
    "   \n",
    "- Thoughts:\n",
    "    - Can probably do this with modulo arithmetic and not have to iterate, but that might be more difficult.\n",
    "    - So just do a class and iterate unless we can't do it for part 2"
   ]
  },
  {
   "cell_type": "code",
   "execution_count": 1,
   "metadata": {},
   "outputs": [],
   "source": [
    "class DeterministicDiceGame(object):\n",
    "    def __init__(self,starting_pos):\n",
    "        # Positions\n",
    "        self.p1 = starting_pos[0]\n",
    "        self.p2 = starting_pos[1]\n",
    "        \n",
    "        # Scores\n",
    "        self.p1_score = 0\n",
    "        self.p2_score = 0\n",
    "        \n",
    "        self.next_turn = \"p1\"\n",
    "        self.rolls = 0\n",
    "        self.last_roll = 0\n",
    "        self.winning_score = 1000\n",
    "        \n",
    "        self.next_turn_dict = {\"p1\":\"p2\",\"p2\":\"p1\"}\n",
    "        \n",
    "    def roll(self):\n",
    "        \"\"\"Roll the dice and return the value.\"\"\"\n",
    "        self.last_roll = (self.last_roll % 100) + 1\n",
    "        self.rolls += 1\n",
    "        return self.last_roll\n",
    "    \n",
    "    def roll_3_dice(self):\n",
    "        \"\"\"Roll 3 dice and return the value.\"\"\"\n",
    "        r1 = self.roll()\n",
    "        r2 = self.roll()\n",
    "        r3 = self.roll()\n",
    "        return r1 + r2 + r3\n",
    "        \n",
    "    def one_turn(self):\n",
    "        \"\"\"Simulate the turn of each player.\"\"\"\n",
    "        # Roll 3 dice\n",
    "        total_roll = self.roll_3_dice()\n",
    "        \n",
    "        # Move pawn\n",
    "        if self.next_turn == \"p1\":\n",
    "            # Need to do this because 10%10 == 0, but spaces are 1-10\n",
    "            self.p1 = ((self.p1 + total_roll -1) % 10) +1\n",
    "            self.p1_score += self.p1\n",
    "        else:\n",
    "            self.p2 = ((self.p2 + total_roll -1) % 10) +1\n",
    "            self.p2_score += self.p2\n",
    "            \n",
    "        if self.p1_score >= self.winning_score:\n",
    "            print(\"P1 wins!\")\n",
    "            self.losing_score = self.p2_score\n",
    "            return True\n",
    "        elif self.p2_score >= self.winning_score:\n",
    "            print(\"P2 wins!\")\n",
    "            self.losing_score = self.p1_score\n",
    "            return True\n",
    "        else:\n",
    "            self.next_turn = self.next_turn_dict[self.next_turn]\n",
    "            return False\n",
    "        \n",
    "    def play_until_winner(self):\n",
    "        winner = False\n",
    "        \n",
    "        while not winner:\n",
    "            winner = self.one_turn()\n",
    "            \n",
    "        return self.losing_score * self.rolls"
   ]
  },
  {
   "cell_type": "code",
   "execution_count": 2,
   "metadata": {},
   "outputs": [
    {
     "name": "stdout",
     "output_type": "stream",
     "text": [
      "P1 wins!\n"
     ]
    },
    {
     "data": {
      "text/plain": [
       "739785"
      ]
     },
     "execution_count": 2,
     "metadata": {},
     "output_type": "execute_result"
    }
   ],
   "source": [
    "# Test input\n",
    "d = DeterministicDiceGame([4,8])\n",
    "d.play_until_winner()"
   ]
  },
  {
   "cell_type": "code",
   "execution_count": 3,
   "metadata": {},
   "outputs": [
    {
     "name": "stdout",
     "output_type": "stream",
     "text": [
      "P1 wins!\n"
     ]
    },
    {
     "data": {
      "text/plain": [
       "888735"
      ]
     },
     "execution_count": 3,
     "metadata": {},
     "output_type": "execute_result"
    }
   ],
   "source": [
    "# Puzzle input\n",
    "d = DeterministicDiceGame([4,6])\n",
    "d.play_until_winner()"
   ]
  },
  {
   "cell_type": "markdown",
   "metadata": {},
   "source": [
    "### Part 2:\n",
    "- Each time you roll, universe splits into 3: where you roll 1,2 and 3 respectively\n",
    "- But win at 21 instead of 1000\n",
    "- So for each turn, 3*3*3 = 27 different outcomes. \n",
    "- But really you can only roll numbers between 3 - 9 (7 outcomes with different weightings)\n",
    "    - This would mean the number of universes with different outcomes is 7^turns, compared to 27^turns if we simulated them individually\n",
    "- Thoughts:\n",
    "    - Clearly can't brute force\n",
    "    - Will need a recursive function that counts number of winners from a given game state\n",
    "    - There will be a lot of duplicates since we might end up in the same game state. \n",
    "        - Can probably cache solutions defined by: current player score + position, other player score + position"
   ]
  },
  {
   "cell_type": "code",
   "execution_count": 4,
   "metadata": {},
   "outputs": [],
   "source": [
    "from functools import lru_cache\n",
    "vals = [3,4,5,6,7,8,9] # Possible rolls\n",
    "weights = [1,3,6,7,6,3,1] # Number of ways to get each one\n",
    "\n",
    "@lru_cache(maxsize=None)\n",
    "def play_until_winner(p1_score,p1_pos,p2_score,p2_pos):\n",
    "    \"\"\"\n",
    "    Simulate all possible outcomes of the game until we have a winner\n",
    "    \n",
    "    p1_score: Score of player who just rolled\n",
    "    p1_pos: Position of player who just rolled\n",
    "    p2_score: Score of player whose turn is next\n",
    "    p2_pos: Position of player whose turn is next\n",
    "    \n",
    "    Returns:\n",
    "    number of times each player wins:\n",
    "        (active_player, other_player)\n",
    "    \"\"\"\n",
    "    \n",
    "    # Did they win?\n",
    "    if p1_score >= 21:\n",
    "        return (1,0)\n",
    "    \n",
    "    # Otherwise simulate all of the outcomes for the next player's roll\n",
    "    all_p1_wins = 0\n",
    "    all_p2_wins = 0\n",
    "    for ix,v in enumerate(vals):\n",
    "        \n",
    "        new_pos = ((p2_pos + v -1) % 10) +1\n",
    "        new_score = p2_score + new_pos\n",
    "        \n",
    "        # How many times does each player win from here?\n",
    "        p2_wins, p1_wins = play_until_winner(new_score, new_pos,p1_score,p1_pos)\n",
    "        \n",
    "        all_p1_wins += p1_wins * weights[ix]\n",
    "        all_p2_wins += p2_wins * weights[ix]\n",
    "        \n",
    "    return all_p1_wins, all_p2_wins"
   ]
  },
  {
   "cell_type": "code",
   "execution_count": 5,
   "metadata": {},
   "outputs": [
    {
     "name": "stdout",
     "output_type": "stream",
     "text": [
      "(1, 0)\n",
      "(0, 27)\n"
     ]
    },
    {
     "data": {
      "text/plain": [
       "(341960390180808, 444356092776315)"
      ]
     },
     "execution_count": 5,
     "metadata": {},
     "output_type": "execute_result"
    }
   ],
   "source": [
    "# Test input:\n",
    "print(play_until_winner(21,4,0,8)) # P1 already won, should be (1,0)\n",
    "print(play_until_winner(5,4,20,8)) # P2 wins every time, should be 27 for p2\n",
    "play_until_winner(0,8,0,4)"
   ]
  },
  {
   "cell_type": "code",
   "execution_count": 6,
   "metadata": {},
   "outputs": [
    {
     "data": {
      "text/plain": [
       "(447445126742668, 647608359455719)"
      ]
     },
     "execution_count": 6,
     "metadata": {},
     "output_type": "execute_result"
    }
   ],
   "source": [
    "# Puzzle input\n",
    "play_until_winner(0,6,0,4)"
   ]
  },
  {
   "cell_type": "code",
   "execution_count": null,
   "metadata": {},
   "outputs": [],
   "source": []
  }
 ],
 "metadata": {
  "kernelspec": {
   "display_name": "Python 3",
   "language": "python",
   "name": "python3"
  },
  "language_info": {
   "codemirror_mode": {
    "name": "ipython",
    "version": 3
   },
   "file_extension": ".py",
   "mimetype": "text/x-python",
   "name": "python",
   "nbconvert_exporter": "python",
   "pygments_lexer": "ipython3",
   "version": "3.8.6"
  }
 },
 "nbformat": 4,
 "nbformat_minor": 4
}
