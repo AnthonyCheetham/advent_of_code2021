{
 "cells": [
  {
   "cell_type": "markdown",
   "metadata": {},
   "source": [
    "### Day 7"
   ]
  },
  {
   "cell_type": "code",
   "execution_count": 1,
   "metadata": {},
   "outputs": [],
   "source": [
    "# Load input\n",
    "with open(\"inputs/day7_input.dat\",\"r\") as f:\n",
    "    data = f.read().splitlines()\n",
    "data = data[0].split(',')\n",
    "data = [int(x) for x in data]"
   ]
  },
  {
   "cell_type": "code",
   "execution_count": 2,
   "metadata": {},
   "outputs": [
    {
     "data": {
      "text/plain": [
       "[1101, 1, 29, 67, 1102]"
      ]
     },
     "execution_count": 2,
     "metadata": {},
     "output_type": "execute_result"
    }
   ],
   "source": [
    "data[0:5]"
   ]
  },
  {
   "cell_type": "markdown",
   "metadata": {},
   "source": [
    "### Part 1:\n",
    "- Calculate fuel (number of moves) needed to align each submarine\n",
    "\n",
    "Thoughts:\n",
    "- Shouldn't be too slow to brute force it"
   ]
  },
  {
   "cell_type": "code",
   "execution_count": 3,
   "metadata": {},
   "outputs": [
    {
     "name": "stdout",
     "output_type": "stream",
     "text": [
      "37\n"
     ]
    }
   ],
   "source": [
    "test_input = [16,1,2,0,4,2,7,1,2,14]\n",
    "fuel_costs = []\n",
    "for pos in range(16):\n",
    "    fuel_costs.append(sum([abs(p-pos) for p in test_input]))\n",
    "print(min(fuel_costs))"
   ]
  },
  {
   "cell_type": "code",
   "execution_count": 4,
   "metadata": {},
   "outputs": [
    {
     "name": "stdout",
     "output_type": "stream",
     "text": [
      "344605\n"
     ]
    }
   ],
   "source": [
    "fuel_costs = []\n",
    "for pos in range(min(data),max(data)):\n",
    "    fuel_costs.append(sum([abs(p-pos) for p in data]))\n",
    "print(min(fuel_costs))"
   ]
  },
  {
   "cell_type": "markdown",
   "metadata": {},
   "source": [
    "### Part 2:\n",
    "- Same calculation but costs 1 additional fuel per distance (i.e. 0, 1, 2+1, 3+2+1, 4+3+2+1, etc.)\n",
    "\n",
    "Thoughts:\n",
    "- I think cost(n) =  n(n+1)/2\n",
    "- Not more complex so can brute force too"
   ]
  },
  {
   "cell_type": "code",
   "execution_count": 5,
   "metadata": {},
   "outputs": [],
   "source": [
    "def cost(n):\n",
    "    return n*(n+1)//2"
   ]
  },
  {
   "cell_type": "code",
   "execution_count": 6,
   "metadata": {},
   "outputs": [
    {
     "name": "stdout",
     "output_type": "stream",
     "text": [
      "168\n"
     ]
    }
   ],
   "source": [
    "test_input = [16,1,2,0,4,2,7,1,2,14]\n",
    "fuel_costs = []\n",
    "for pos in range(16):\n",
    "    fuel_costs.append(sum([cost(abs(p-pos)) for p in test_input]))\n",
    "print(min(fuel_costs))"
   ]
  },
  {
   "cell_type": "code",
   "execution_count": 7,
   "metadata": {},
   "outputs": [
    {
     "name": "stdout",
     "output_type": "stream",
     "text": [
      "93699985\n"
     ]
    }
   ],
   "source": [
    "fuel_costs = []\n",
    "for pos in range(min(data),max(data)):\n",
    "    fuel_costs.append(sum([cost(abs(p-pos)) for p in data]))\n",
    "print(min(fuel_costs))"
   ]
  },
  {
   "cell_type": "code",
   "execution_count": null,
   "metadata": {},
   "outputs": [],
   "source": []
  }
 ],
 "metadata": {
  "kernelspec": {
   "display_name": "Python 3",
   "language": "python",
   "name": "python3"
  },
  "language_info": {
   "codemirror_mode": {
    "name": "ipython",
    "version": 3
   },
   "file_extension": ".py",
   "mimetype": "text/x-python",
   "name": "python",
   "nbconvert_exporter": "python",
   "pygments_lexer": "ipython3",
   "version": "3.8.6"
  }
 },
 "nbformat": 4,
 "nbformat_minor": 4
}
