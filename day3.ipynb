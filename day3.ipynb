{
 "cells": [
  {
   "cell_type": "markdown",
   "metadata": {},
   "source": [
    "### Day 3"
   ]
  },
  {
   "cell_type": "code",
   "execution_count": 1,
   "metadata": {},
   "outputs": [],
   "source": [
    "# Load input\n",
    "with open(\"inputs/day3_input.dat\",\"r\") as f:\n",
    "    data = f.read().splitlines() "
   ]
  },
  {
   "cell_type": "code",
   "execution_count": 2,
   "metadata": {},
   "outputs": [
    {
     "data": {
      "text/plain": [
       "['010001110001',\n",
       " '110100000001',\n",
       " '111001001011',\n",
       " '111100001000',\n",
       " '000111101001']"
      ]
     },
     "execution_count": 2,
     "metadata": {},
     "output_type": "execute_result"
    }
   ],
   "source": [
    "data[0:5]"
   ]
  },
  {
   "cell_type": "markdown",
   "metadata": {},
   "source": [
    "### Part 1:\n",
    "- gamma rate = most common bit in each position in the input\n",
    "- epsilon rate = least common bit in each position in the input\n",
    "- power = gamma * epsilon"
   ]
  },
  {
   "cell_type": "code",
   "execution_count": 3,
   "metadata": {},
   "outputs": [],
   "source": [
    "def gamma_rate(data):\n",
    "    # Count the ones in each position\n",
    "    n_inputs = len(data)\n",
    "    n_digits = len(data[0])\n",
    "    ones_count = n_digits*[0]\n",
    "    for num in data:\n",
    "        for digit, bit in enumerate(num):\n",
    "            ones_count[digit] += (bit == '1')\n",
    "\n",
    "    # Is 1 the most common digit in each position?\n",
    "    # 1*[boolean] gives 0 or 1.\n",
    "    # Doesn't handle equal numbers...\n",
    "    gamma = [str(1*(count > n_inputs/2)) for count in ones_count]\n",
    "    gamma = ''.join(gamma)\n",
    "    \n",
    "    epsilon = [str(1*(count < n_inputs/2)) for count in ones_count]\n",
    "    epsilon = ''.join(epsilon)\n",
    "    \n",
    "    return gamma,epsilon"
   ]
  },
  {
   "cell_type": "code",
   "execution_count": 4,
   "metadata": {},
   "outputs": [
    {
     "name": "stdout",
     "output_type": "stream",
     "text": [
      "Gamma: 100100101010 2346\n",
      "Epsilon: 011011010101 1749\n",
      "Power: 4103154\n"
     ]
    }
   ],
   "source": [
    "gamma, epsilon = gamma_rate(data)\n",
    "gamma_decimal = int(gamma,2)\n",
    "epsilon_decimal = int(epsilon,2)\n",
    "power = gamma_decimal*epsilon_decimal\n",
    "\n",
    "print(\"Gamma:\",gamma,gamma_decimal)\n",
    "print(\"Epsilon:\",epsilon,epsilon_decimal)\n",
    "print(\"Power:\",power)"
   ]
  },
  {
   "cell_type": "markdown",
   "metadata": {},
   "source": [
    "### Part 2\n",
    "- Oxygen rating: Loop through and get most common bit, then remove all unmatched numbers and move on. Take last number remaining.\n",
    "- CO2 rating: Same, but considering least common bit."
   ]
  },
  {
   "cell_type": "code",
   "execution_count": 5,
   "metadata": {},
   "outputs": [],
   "source": [
    "def is_one_most_common(input_list, digit):\n",
    "    \"\"\"Find most common bit at a given position from a list.\"\"\"\n",
    "    num_ones = 0\n",
    "    for num in input_list:\n",
    "        num_ones += (num[digit] == '1')\n",
    "    return (num_ones >= len(input_list)/2)\n",
    "        \n",
    "def get_o2_or_co2(input_list, most_common=True):\n",
    "    data_list = input_list.copy()\n",
    "    n_digits = len(data_list[0])\n",
    "    \n",
    "    # Loop through the digits and make a new list with the matches\n",
    "    # to search through next loop\n",
    "    digit = 0\n",
    "    while len(data_list) > 1 and digit < n_digits:\n",
    "        next_list = []\n",
    "        \n",
    "        # What are we trying to match?\n",
    "        if most_common:\n",
    "            number = str(1*is_one_most_common(data_list, digit))\n",
    "        else:\n",
    "            number = str(1*(not is_one_most_common(data_list,digit)))\n",
    "                    \n",
    "        for num in data_list:\n",
    "            if num[digit] == number:\n",
    "                next_list.append(num)\n",
    "\n",
    "        data_list = next_list\n",
    "\n",
    "        # Look at the next digit\n",
    "        digit += 1\n",
    "    if len(data_list) == 1:\n",
    "        print(\"Found {0} at {1} digits\".format(data_list[0],digit-1))\n",
    "        return data_list[0]\n",
    "    else:\n",
    "        print(\"Eliminated all matches at {0} digits!\".format(digit-1))"
   ]
  },
  {
   "cell_type": "code",
   "execution_count": 6,
   "metadata": {},
   "outputs": [
    {
     "name": "stdout",
     "output_type": "stream",
     "text": [
      "Found 110101000111 at 11 digits\n",
      "Found 010011100001 at 8 digits\n",
      "O2 rating: 110101000111 3399\n",
      "CO2 rating: 010011100001 1249\n",
      "Life support rating: 4245351\n"
     ]
    }
   ],
   "source": [
    "o2 = get_o2_or_co2(data, most_common = True)\n",
    "co2 = get_o2_or_co2(data, most_common = False)\n",
    "\n",
    "o2_decimal = int(o2,2)\n",
    "co2_decimal = int(co2,2)\n",
    "ls_rating = o2_decimal*co2_decimal\n",
    "\n",
    "print(\"O2 rating:\",o2,o2_decimal)\n",
    "print(\"CO2 rating:\",co2,co2_decimal)\n",
    "print(\"Life support rating:\",ls_rating)"
   ]
  },
  {
   "cell_type": "code",
   "execution_count": null,
   "metadata": {},
   "outputs": [],
   "source": []
  }
 ],
 "metadata": {
  "kernelspec": {
   "display_name": "Python 3",
   "language": "python",
   "name": "python3"
  },
  "language_info": {
   "codemirror_mode": {
    "name": "ipython",
    "version": 3
   },
   "file_extension": ".py",
   "mimetype": "text/x-python",
   "name": "python",
   "nbconvert_exporter": "python",
   "pygments_lexer": "ipython3",
   "version": "3.8.6"
  }
 },
 "nbformat": 4,
 "nbformat_minor": 4
}
