{
 "cells": [
  {
   "cell_type": "markdown",
   "metadata": {},
   "source": [
    "### Day 25!"
   ]
  },
  {
   "cell_type": "markdown",
   "metadata": {},
   "source": [
    "### Part 1:\n",
    "- 2D grid of sea cucumbers\n",
    "- They move in a straight line\n",
    "- Some go south (v), some go east (>)\n",
    "- Each step:\n",
    "    - Those facing east move forward one square if it's empty\n",
    "    - Those facing south move forward one square if it's empty\n",
    "- The movement wraps around the edges of the map. They still need to check if the square on the other size is empty\n",
    "- Find the number of steps required to reach a steady state where no sea cucumbers move"
   ]
  },
  {
   "cell_type": "code",
   "execution_count": 1,
   "metadata": {},
   "outputs": [],
   "source": [
    "class CucumberGrid(object):\n",
    "    def __init__(self,fname):\n",
    "        with open(fname, \"r\") as f:\n",
    "            data = f.read().splitlines()\n",
    "            \n",
    "        self.grid = [[letter for letter in row] for row in data]\n",
    "        self.nx = len(data[0])\n",
    "        self.ny = len(data)\n",
    "        self.n_steps = 0\n",
    "        \n",
    "        self.opposite_dir = {\">\":\"v\",\n",
    "                             \"v\":\">\"}\n",
    "        \n",
    "    def print_grid(self):\n",
    "        for l in self.grid:\n",
    "            print(\"\".join(l))\n",
    "            \n",
    "    def _ahead_coords(self,x,y,direction:str):\n",
    "        \"\"\"Return the square ahead of this one.\"\"\"\n",
    "        if direction == \">\":\n",
    "            return (x+1)%self.nx,y\n",
    "        else:\n",
    "            return x,(y+1)%self.ny\n",
    "            \n",
    "    def _move_one_type(self,direction:str):\n",
    "        \"\"\"Move all the cucumbers facing one direction.\n",
    "        Direction is either v or >\"\"\"\n",
    "        n_moves = 0\n",
    "        new_grid = [[\".\" for x in range(self.nx)] for y in range(self.ny)]\n",
    "        opposite_dir = self.opposite_dir[direction]\n",
    "        \n",
    "        for y in range(self.ny):\n",
    "            for x in range(self.nx):\n",
    "                l = self.grid[y][x]\n",
    "                \n",
    "                if l == direction:\n",
    "                    # Check ahead and move if it's empty\n",
    "                    x2,y2 = self._ahead_coords(x,y,direction)\n",
    "                    if self.grid[y2][x2] == \".\":\n",
    "                        n_moves+=1\n",
    "                        new_grid[y2][x2] = direction\n",
    "                    else:\n",
    "                        new_grid[y][x] = direction\n",
    "                    \n",
    "                elif l == opposite_dir:\n",
    "                    new_grid[y][x] = opposite_dir\n",
    "        \n",
    "        self.grid = new_grid\n",
    "        return n_moves\n",
    "                    \n",
    "            \n",
    "    def tick(self):\n",
    "        \"\"\"Apply one step.\"\"\"\n",
    "        ## Move all east facing cucumbers\n",
    "        n_moves = self._move_one_type(\">\")\n",
    "        n_moves += self._move_one_type(\"v\")\n",
    "\n",
    "        self.n_steps+=1\n",
    "        return n_moves\n",
    "    \n",
    "    def move_until_static(self):\n",
    "        \"\"\"Apply steps until no sea cucumbers move.\"\"\"\n",
    "        n_moves = 1\n",
    "        while n_moves>0:\n",
    "            n_moves = self.tick()\n",
    "        print(\"Steady state after:\",self.n_steps)\n",
    "        "
   ]
  },
  {
   "cell_type": "code",
   "execution_count": 2,
   "metadata": {},
   "outputs": [
    {
     "name": "stdout",
     "output_type": "stream",
     "text": [
      "v...>>.vv>\n",
      ".vv>>.vv..\n",
      ">>.>v>...v\n",
      ">>v>>.>.v.\n",
      "v>v.vv.v..\n",
      ">.>>..v...\n",
      ".vv..>.>v.\n",
      "v.v..>>v.v\n",
      "....v..v.>\n",
      "Tick\n",
      "....>.>v.>\n",
      "v.v>.>v.v.\n",
      ">v>>..>v..\n",
      ">>v>v>.>.v\n",
      ".>v.v...v.\n",
      "v>>.>vvv..\n",
      "..v...>>..\n",
      "vv...>>vv.\n",
      ">.v.v..v.v\n"
     ]
    }
   ],
   "source": [
    "# Test input, check one tick\n",
    "grid = CucumberGrid(\"inputs/day25_test_input.dat\")\n",
    "grid.print_grid()\n",
    "grid.tick()\n",
    "print(\"Tick\")\n",
    "grid.print_grid()"
   ]
  },
  {
   "cell_type": "code",
   "execution_count": 3,
   "metadata": {},
   "outputs": [
    {
     "name": "stdout",
     "output_type": "stream",
     "text": [
      "Steady state after: 58\n"
     ]
    }
   ],
   "source": [
    "# Test input, check it gives the right answer:\n",
    "grid = CucumberGrid(\"inputs/day25_test_input.dat\")\n",
    "grid.move_until_static()"
   ]
  },
  {
   "cell_type": "code",
   "execution_count": 4,
   "metadata": {},
   "outputs": [
    {
     "name": "stdout",
     "output_type": "stream",
     "text": [
      "Steady state after: 492\n"
     ]
    }
   ],
   "source": [
    "# Puzzle input:\n",
    "grid = CucumberGrid(\"inputs/day25_input.dat\")\n",
    "grid.move_until_static()"
   ]
  },
  {
   "cell_type": "code",
   "execution_count": null,
   "metadata": {},
   "outputs": [],
   "source": []
  }
 ],
 "metadata": {
  "kernelspec": {
   "display_name": "Python 3",
   "language": "python",
   "name": "python3"
  },
  "language_info": {
   "codemirror_mode": {
    "name": "ipython",
    "version": 3
   },
   "file_extension": ".py",
   "mimetype": "text/x-python",
   "name": "python",
   "nbconvert_exporter": "python",
   "pygments_lexer": "ipython3",
   "version": "3.8.6"
  }
 },
 "nbformat": 4,
 "nbformat_minor": 4
}
