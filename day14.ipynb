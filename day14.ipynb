{
 "cells": [
  {
   "cell_type": "markdown",
   "metadata": {},
   "source": [
    "### Day 14"
   ]
  },
  {
   "cell_type": "markdown",
   "metadata": {},
   "source": [
    "# Part 1:\n",
    "- Input is a starting set of letters and a list of letter pairs that transform to three letter with the insertion of a new letter between them\n",
    "- This process can be run repeatedly\n",
    "- One step considers the initial letters and adds new letters, but doesn't consider those new letters.\n",
    "- Run it 10 times and get number of most common letter - number of least common letter\n",
    "\n",
    "Thoughts:\n",
    "- Can use strings or lists\n",
    "- Can't use str.replace since it will be difficult not to consider new letters\n",
    "- Can count pairs but might need the full string later (EDIT: I didn't, so had to go back and do this)"
   ]
  },
  {
   "cell_type": "code",
   "execution_count": 30,
   "metadata": {},
   "outputs": [],
   "source": [
    "from collections import defaultdict\n",
    "class Polymer(object):\n",
    "    def __init__(self, fname):\n",
    "        with open(fname,\"r\") as f:\n",
    "            data = f.read().splitlines()\n",
    "        self.chain = data[0]\n",
    "        \n",
    "        # Build the insertion rules so that they take the form:\n",
    "        # insertion_rules[input] = output\n",
    "        # But need to ignore one letter to avoid doubling it\n",
    "        # I'll choose the first one to ignore\n",
    "        self.insertion_rules = {}\n",
    "        for row in data[2:]:\n",
    "            pair, new_letter = row.split(\" -> \")\n",
    "            self.insertion_rules[pair] = new_letter+pair[1]\n",
    "    \n",
    "    def one_step(self):\n",
    "        \"\"\"Apply insertion rules once to polymer chain.\"\"\"\n",
    "        new_chain = self.chain[0]\n",
    "        # One less iteration since we're taking 2 letters at a time\n",
    "        for ix in range(len(self.chain)-1):\n",
    "            pair = self.chain[ix:ix+2]\n",
    "            new_chain += self.insertion_rules[pair]\n",
    "        \n",
    "        self.chain = new_chain\n",
    "    \n",
    "    def run_n_steps(self,n):\n",
    "        for ix in range(n):\n",
    "            self.one_step()\n",
    "            \n",
    "    def count_letters_in_chain(self):\n",
    "        counts = defaultdict(int)\n",
    "        for letter in self.chain:\n",
    "            counts[letter] += 1\n",
    "        return counts"
   ]
  },
  {
   "cell_type": "code",
   "execution_count": 31,
   "metadata": {},
   "outputs": [
    {
     "name": "stdout",
     "output_type": "stream",
     "text": [
      "NNCB\n",
      "defaultdict(<class 'int'>, {'N': 865, 'B': 1749, 'C': 298, 'H': 161})\n"
     ]
    }
   ],
   "source": [
    "test_polymer = Polymer(\"inputs/day14_test_input.dat\")\n",
    "print(test_polymer.chain)\n",
    "test_polymer.run_n_steps(10)\n",
    "# print(test_polymer.chain)\n",
    "counts = test_polymer.count_letters_in_chain()\n",
    "print(counts)"
   ]
  },
  {
   "cell_type": "code",
   "execution_count": 36,
   "metadata": {},
   "outputs": [
    {
     "name": "stdout",
     "output_type": "stream",
     "text": [
      "SCVHKHVSHPVCNBKBPVHV\n",
      "defaultdict(<class 'int'>, {'S': 2765, 'H': 2116, 'P': 1910, 'K': 3461, 'F': 2833, 'O': 977, 'B': 1741, 'V': 749, 'C': 1666, 'N': 1239})\n",
      "2712\n"
     ]
    }
   ],
   "source": [
    "polymer = Polymer(\"inputs/day14_input.dat\")\n",
    "print(polymer.chain)\n",
    "polymer.run_n_steps(10)\n",
    "counts = polymer.count_letters_in_chain()\n",
    "print(counts)\n",
    "print(max(counts.values())-min(counts.values()))"
   ]
  },
  {
   "cell_type": "markdown",
   "metadata": {},
   "source": [
    "### Part 2:\n",
    "- Run it 40 times and do it again\n",
    "\n",
    "Thoughts:\n",
    "- Probably should have tracked counts of pairs instead of the actual string"
   ]
  },
  {
   "cell_type": "code",
   "execution_count": 61,
   "metadata": {},
   "outputs": [],
   "source": [
    "class EfficientPolymer(object):\n",
    "    \"\"\"A more efficient way to simulate the polymer, \n",
    "    at the cost of not knowing the full string.\n",
    "    \"\"\"\n",
    "    def __init__(self, fname):\n",
    "        with open(fname,\"r\") as f:\n",
    "            data = f.read().splitlines()\n",
    "        chain = data[0]\n",
    "        \n",
    "        # Count polymer pairs\n",
    "        self.chain_pairs = defaultdict(int)\n",
    "        for ix in range(len(chain)-1):\n",
    "            pair = chain[ix:ix+2]\n",
    "            self.chain_pairs[pair] += 1\n",
    "            \n",
    "        self.first_letter = chain[0]\n",
    "        self.last_letter = chain[-1]\n",
    "        \n",
    "        # Build the insertion rules so that they take the form:\n",
    "        # insertion_rules[input_pair] = [output_pair1, output_pair2]\n",
    "        self.insertion_rules = {}\n",
    "        for row in data[2:]:\n",
    "            pair, new_letter = row.split(\" -> \")\n",
    "            self.insertion_rules[pair] = [\n",
    "                pair[0]+new_letter, new_letter+pair[1]\n",
    "            ]\n",
    "    \n",
    "    def one_step(self):\n",
    "        \"\"\"Apply insertion rules once to polymer chain.\"\"\"\n",
    "        # Loop through the pairs we currently have and apply the rules\n",
    "        new_chain_pairs = defaultdict(int)\n",
    "        for pair, num in self.chain_pairs.items():\n",
    "            output_pairs = self.insertion_rules[pair]\n",
    "            new_chain_pairs[output_pairs[0]] += num\n",
    "            new_chain_pairs[output_pairs[1]] += num\n",
    "        \n",
    "        self.chain_pairs = new_chain_pairs\n",
    "    \n",
    "    def run_n_steps(self,n):\n",
    "        for ix in range(n):\n",
    "            self.one_step()\n",
    "            \n",
    "    def count_letters_in_chain(self):\n",
    "        counts = defaultdict(int)\n",
    "        for pair, num in self.chain_pairs.items():\n",
    "            counts[pair[0]] += num\n",
    "            counts[pair[1]] += num\n",
    "        \n",
    "        # Need to account for double counting of everything except first and last letter\n",
    "        counts[self.first_letter] += 1 # Add one and halve\n",
    "        counts[self.last_letter] += 1\n",
    "        for pair, num in counts.items():\n",
    "            counts[pair] = num//2\n",
    "        \n",
    "        return counts\n",
    "        "
   ]
  },
  {
   "cell_type": "code",
   "execution_count": 64,
   "metadata": {},
   "outputs": [
    {
     "name": "stdout",
     "output_type": "stream",
     "text": [
      "defaultdict(<class 'int'>, {'N': 1096047802353, 'B': 2192039569602, 'C': 6597635301, 'H': 3849876073})\n"
     ]
    }
   ],
   "source": [
    "test_polymer = EfficientPolymer(\"inputs/day14_test_input.dat\")\n",
    "# print(test_polymer.chain_pairs)\n",
    "test_polymer.run_n_steps(40)\n",
    "# print(test_polymer.chain_pairs)\n",
    "counts = test_polymer.count_letters_in_chain()\n",
    "print(counts)"
   ]
  },
  {
   "cell_type": "code",
   "execution_count": 65,
   "metadata": {},
   "outputs": [
    {
     "name": "stdout",
     "output_type": "stream",
     "text": [
      "8336623059567\n"
     ]
    }
   ],
   "source": [
    "polymer = EfficientPolymer(\"inputs/day14_input.dat\")\n",
    "polymer.run_n_steps(40)\n",
    "counts = polymer.count_letters_in_chain()\n",
    "# print(counts)\n",
    "print(max(counts.values())-min(counts.values()))"
   ]
  },
  {
   "cell_type": "code",
   "execution_count": null,
   "metadata": {},
   "outputs": [],
   "source": []
  }
 ],
 "metadata": {
  "kernelspec": {
   "display_name": "Python 3",
   "language": "python",
   "name": "python3"
  },
  "language_info": {
   "codemirror_mode": {
    "name": "ipython",
    "version": 3
   },
   "file_extension": ".py",
   "mimetype": "text/x-python",
   "name": "python",
   "nbconvert_exporter": "python",
   "pygments_lexer": "ipython3",
   "version": "3.8.6"
  }
 },
 "nbformat": 4,
 "nbformat_minor": 4
}
