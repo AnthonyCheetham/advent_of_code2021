{
 "cells": [
  {
   "cell_type": "markdown",
   "metadata": {},
   "source": [
    "### Day 15"
   ]
  },
  {
   "cell_type": "markdown",
   "metadata": {},
   "source": [
    "### Part 1:\n",
    "- Another path-finding algorithm\n",
    "- Each point has a risk level associated with it\n",
    "- Goal is to find the path with the minimum total risk level\n",
    "- Only care about the total risk level, not the places you've been\n",
    "\n",
    "Thoughts:\n",
    "- Should do dijkstra"
   ]
  },
  {
   "cell_type": "code",
   "execution_count": 1,
   "metadata": {},
   "outputs": [],
   "source": [
    "# I'm defining x to be the first dimension this time\n",
    "# and y is the second dimension\n",
    "class ChitonTunnel(object):\n",
    "    \n",
    "    def __init__(self,fname):\n",
    "        with open(fname,\"r\") as f:\n",
    "            data = f.read().splitlines()\n",
    "        data = [[int(val) for val in row] for row in data]\n",
    "        self.risk_map = data\n",
    "        self.xsize = len(data)\n",
    "        self.ysize = len(data[0])\n",
    "        \n",
    "    def check_valid_pos(self,x,y):\n",
    "        \"\"\"Check a position is in the grid.\"\"\"\n",
    "        if (x < 0) | (y < 0):\n",
    "            return False\n",
    "        elif (x >= self.xsize) | (y >= self.ysize):\n",
    "            return False\n",
    "        else:\n",
    "            return True\n",
    "\n",
    "    def choose_next_point(self):\n",
    "        \"\"\"Pick the next point to explore (Dijkstra's algorithm).\"\"\"\n",
    "        best_pos = [-1,-1]\n",
    "        best_risk = 9999999\n",
    "        for x,y in self.unvisited:\n",
    "            position_risk = self.best_risks[x][y]\n",
    "            if position_risk < best_risk:\n",
    "                best_pos = [x,y]\n",
    "                best_risk = position_risk\n",
    "\n",
    "        return best_pos\n",
    "\n",
    "        \n",
    "    def find_safest_path(self):\n",
    "        \"\"\"Use Dijkstra's algorithm to find the best route.\"\"\"\n",
    "        # Initialize set of best risk values up to each point\n",
    "        # And list of unvisited nodes\n",
    "        # And a list of neighbouring nodes to check\n",
    "        bignum = 999999\n",
    "        self.unvisited = [(0,0)]\n",
    "        self.unvisited_map = [[True for y in self.risk_map[0]] for x in self.risk_map]\n",
    "        self.best_risks = [[bignum for y in self.risk_map[0]] for x in self.risk_map]\n",
    "        self.best_risks[0][0]=0\n",
    "        \n",
    "        left_to_explore = len(self.unvisited)\n",
    "        counter = 0\n",
    "        \n",
    "        while (left_to_explore > 0):\n",
    "            # Pick the best point to explore\n",
    "            x,y = self.choose_next_point()\n",
    "            risk = self.best_risks[x][y]\n",
    "            #\n",
    "#             if (counter % 5000) == 0:\n",
    "#                 print(\"At\",x,y,\"Risk:\",risk,\"Checked:\",counter)\n",
    "                        \n",
    "            if (x == (self.xsize-1)) & (y == (self.ysize-1)):\n",
    "                # If this is the end of the maze then stop\n",
    "                break\n",
    "            else:\n",
    "                # Otherwise update the best positions around this one \n",
    "                # and mark it as visited\n",
    "                pos = [[x-1,y],[x,y-1],[x+1,y],[x,y+1]]\n",
    "                for newx,newy in pos:\n",
    "                    if self.check_valid_pos(newx,newy):\n",
    "                        if self.unvisited_map[newx][newy]:\n",
    "                            would_be_risk = risk + self.risk_map[newx][newy]\n",
    "                            self.best_risks[newx][newy] = min(would_be_risk, self.best_risks[newx][newy])\n",
    "                            \n",
    "                            # Add it to the list to check if it's not in there\n",
    "                            if (newx,newy) not in self.unvisited:\n",
    "                                self.unvisited.append((newx,newy))\n",
    "    \n",
    "            self.unvisited.remove((x,y))\n",
    "            self.unvisited_map[x][y] = False\n",
    "            left_to_explore = len(self.unvisited)\n",
    "            counter += 1\n",
    "            \n",
    "    def duplicate_for_part2(self):\n",
    "        \"\"\"Make 5x larger, increasing risk by 1 each time.\"\"\"\n",
    "        new_xsize = 5*self.xsize\n",
    "        new_ysize = 5*self.ysize\n",
    "        \n",
    "        new_map = []\n",
    "        for x in range(new_xsize):\n",
    "            this_row = []\n",
    "            orig_x = x % self.xsize\n",
    "            for y in range(new_ysize):\n",
    "                extra_risk = y//self.xsize + x//self.xsize\n",
    "                orig_y = y % self.ysize\n",
    "                \n",
    "                new_val = (self.risk_map[orig_x][orig_y] + extra_risk)\n",
    "                # It resets to 1, not zero\n",
    "                # So do modulo 10 but take 1 for every extra 10\n",
    "                if new_val >= 10:\n",
    "                    new_val = (new_val % 10) + 1\n",
    "                this_row.append(new_val)\n",
    "                \n",
    "            new_map.append(this_row)\n",
    "        self.risk_map = new_map\n",
    "        self.xsize = new_xsize\n",
    "        self.ysize = new_ysize\n",
    "        \n",
    "    def print_map(self):\n",
    "        for row in self.risk_map:\n",
    "            print_str = \"\".join([str(num) for num in row])\n",
    "            print(print_str)\n",
    "            \n",
    "    "
   ]
  },
  {
   "cell_type": "code",
   "execution_count": 2,
   "metadata": {},
   "outputs": [
    {
     "data": {
      "text/plain": [
       "40"
      ]
     },
     "execution_count": 2,
     "metadata": {},
     "output_type": "execute_result"
    }
   ],
   "source": [
    "test_tunnel = ChitonTunnel(\"inputs/day15_test_input.dat\")\n",
    "test_tunnel.find_safest_path()\n",
    "test_tunnel.best_risks\n",
    "test_tunnel.best_risks[-1][-1]"
   ]
  },
  {
   "cell_type": "code",
   "execution_count": 3,
   "metadata": {},
   "outputs": [
    {
     "data": {
      "text/plain": [
       "456"
      ]
     },
     "execution_count": 3,
     "metadata": {},
     "output_type": "execute_result"
    }
   ],
   "source": [
    "tunnel = ChitonTunnel(\"inputs/day15_input.dat\")\n",
    "tunnel.find_safest_path()\n",
    "tunnel.best_risks[-1][-1]"
   ]
  },
  {
   "cell_type": "markdown",
   "metadata": {},
   "source": [
    "### Part 2\n",
    "- Make map 5x larger in each direction\n",
    "- Copy paste copies to the right and down, 5x each direction\n",
    "- Every time it's a new copy in each direction, increase risk by 1\n",
    "\n",
    "Thoughts:\n",
    "- Add function to above code, then optimize until it works\n",
    "- I was looping through the whole unvisited set when checking for the next best point, which is very slow."
   ]
  },
  {
   "cell_type": "code",
   "execution_count": 4,
   "metadata": {},
   "outputs": [
    {
     "data": {
      "text/plain": [
       "315"
      ]
     },
     "execution_count": 4,
     "metadata": {},
     "output_type": "execute_result"
    }
   ],
   "source": [
    "test_tunnel = ChitonTunnel(\"inputs/day15_test_input.dat\")\n",
    "test_tunnel.duplicate_for_part2()\n",
    "test_tunnel.find_safest_path()\n",
    "# test_tunnel.best_risks\n",
    "test_tunnel.best_risks[-1][-1]"
   ]
  },
  {
   "cell_type": "code",
   "execution_count": 5,
   "metadata": {},
   "outputs": [
    {
     "data": {
      "text/plain": [
       "2831"
      ]
     },
     "execution_count": 5,
     "metadata": {},
     "output_type": "execute_result"
    }
   ],
   "source": [
    "tunnel = ChitonTunnel(\"inputs/day15_input.dat\")\n",
    "tunnel.duplicate_for_part2()\n",
    "tunnel.find_safest_path()\n",
    "tunnel.best_risks[-1][-1]"
   ]
  },
  {
   "cell_type": "code",
   "execution_count": null,
   "metadata": {},
   "outputs": [],
   "source": []
  }
 ],
 "metadata": {
  "kernelspec": {
   "display_name": "Python 3",
   "language": "python",
   "name": "python3"
  },
  "language_info": {
   "codemirror_mode": {
    "name": "ipython",
    "version": 3
   },
   "file_extension": ".py",
   "mimetype": "text/x-python",
   "name": "python",
   "nbconvert_exporter": "python",
   "pygments_lexer": "ipython3",
   "version": "3.8.6"
  }
 },
 "nbformat": 4,
 "nbformat_minor": 4
}
