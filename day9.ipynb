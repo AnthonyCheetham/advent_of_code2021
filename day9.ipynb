{
 "cells": [
  {
   "cell_type": "markdown",
   "metadata": {},
   "source": [
    "### Day 9"
   ]
  },
  {
   "cell_type": "code",
   "execution_count": 1,
   "metadata": {},
   "outputs": [
    {
     "data": {
      "text/plain": [
       "[7, 6, 7, 8, 9]"
      ]
     },
     "execution_count": 1,
     "metadata": {},
     "output_type": "execute_result"
    }
   ],
   "source": [
    "# Load input\n",
    "with open(\"inputs/day9_input.dat\",\"r\") as f:\n",
    "    data = f.read().splitlines()\n",
    "\n",
    "for ix,row in enumerate(data):\n",
    "    data[ix] = [int(x) for x in row]\n",
    "data[0][0:5]"
   ]
  },
  {
   "cell_type": "markdown",
   "metadata": {},
   "source": [
    "### Part 1:\n",
    "- Values are heights\n",
    "- Find all of the local minima\n",
    "- Risk value of local minima is height +1\n",
    "- What is the sume of all risk values for all of the low points?\n",
    "\n",
    "Thoughts:\n",
    "- Can probably test every point in reasonable time\n",
    "- Otherwise could test every second point and do a small gradient descent-like method, keeping track of where we've been"
   ]
  },
  {
   "cell_type": "code",
   "execution_count": 2,
   "metadata": {},
   "outputs": [],
   "source": [
    "class HeightMap(object):\n",
    "    def __init__(self,height_map):\n",
    "        self.map = height_map\n",
    "        self.map_sz_x = len(height_map)\n",
    "        self.map_sz_y = len(height_map[0])\n",
    "    \n",
    "    def check_if_low_point(self,x,y):\n",
    "        val = self.map[x][y]\n",
    "        # Check above\n",
    "        if x>0:\n",
    "            if self.map[x-1][y] <= val:\n",
    "                return False\n",
    "        # Check below\n",
    "        if x < self.map_sz_x-1:\n",
    "            if self.map[x+1][y] <= val:\n",
    "                return False\n",
    "        # Check left\n",
    "        if y > 0:\n",
    "            if self.map[x][y-1] <= val:\n",
    "                return False\n",
    "        # Check right\n",
    "        if y < self.map_sz_y-1:\n",
    "            if self.map[x][y+1] <= val:\n",
    "                return False\n",
    "        # Otherwise it's a min\n",
    "        return True\n",
    "    \n",
    "    def find_low_points(self, verbose=False):\n",
    "        low_points = []\n",
    "        for x in range(self.map_sz_x):\n",
    "            for y in range(self.map_sz_y):\n",
    "                if self.check_if_low_point(x,y):\n",
    "                    if verbose:\n",
    "                        print(\"Low point at\",x,y)\n",
    "                    low_points.append([x,y])\n",
    "        return low_points\n",
    "        \n",
    "\n",
    "    def sum_risk_values(self,verbose=False):\n",
    "        low_points = self.find_low_points()\n",
    "        risk_values = 0\n",
    "        for x,y in low_points:\n",
    "            risk_values += self.map[x][y]+1\n",
    "        return risk_values"
   ]
  },
  {
   "cell_type": "code",
   "execution_count": 3,
   "metadata": {},
   "outputs": [
    {
     "data": {
      "text/plain": [
       "15"
      ]
     },
     "execution_count": 3,
     "metadata": {},
     "output_type": "execute_result"
    }
   ],
   "source": [
    "# Test input\n",
    "test_input = [\n",
    "    [2,1,9,9,9,4,3,2,1,0],\n",
    "    [3,9,8,7,8,9,4,9,2,1],\n",
    "    [9,8,5,6,7,8,9,8,9,2],\n",
    "    [8,7,6,7,8,9,6,7,8,9],\n",
    "    [9,8,9,9,9,6,5,6,7,8]\n",
    "]\n",
    "test_map = HeightMap(test_input)\n",
    "\n",
    "test_map.sum_risk_values(True)"
   ]
  },
  {
   "cell_type": "code",
   "execution_count": 4,
   "metadata": {},
   "outputs": [
    {
     "data": {
      "text/plain": [
       "550"
      ]
     },
     "execution_count": 4,
     "metadata": {},
     "output_type": "execute_result"
    }
   ],
   "source": [
    "# Puzzle input\n",
    "input_map = HeightMap(data)\n",
    "input_map.sum_risk_values()"
   ]
  },
  {
   "cell_type": "markdown",
   "metadata": {},
   "source": [
    "### Part 2:\n",
    "- Basins are all points which lead to the same point when going downhill\n",
    "- Height 9 doesnt count as part of a basin\n",
    "- What is the multiple of the size of the 3 largest basins?\n",
    "\n",
    "Thoughts:\n",
    "- Loop through points that aren't 9, then move downhill and add 1 to a map once we reach the bottom.\n",
    "- Then multiply the 3 largest together"
   ]
  },
  {
   "cell_type": "code",
   "execution_count": 5,
   "metadata": {},
   "outputs": [],
   "source": [
    "class BasinMap(HeightMap):\n",
    "    def __init__(self,height_map):\n",
    "        super().__init__(height_map)\n",
    "        basin_counts = []\n",
    "        for x in range(self.map_sz_x):\n",
    "            row = [0 for y in range(self.map_sz_y)]\n",
    "            basin_counts.append(row)\n",
    "        self.basin_counts = basin_counts\n",
    "        \n",
    "    def find_basin(self,x,y):\n",
    "        val = self.map[x][y]\n",
    "        neighbors = [val,9,9,9,9] # [here,top,bottom,left,right]\n",
    "        # Check above\n",
    "        if x>0:\n",
    "            neighbors[1] = self.map[x-1][y]\n",
    "        # Check below\n",
    "        if x < self.map_sz_x-1:\n",
    "            neighbors[2] = self.map[x+1][y]\n",
    "        # Check left\n",
    "        if y > 0:\n",
    "            neighbors[3] = self.map[x][y-1]\n",
    "        # Check right\n",
    "        if y < self.map_sz_y-1:\n",
    "            neighbors[4] = self.map[x][y+1]\n",
    "        \n",
    "        # Find the min and move there or add one here\n",
    "        min_val = min(neighbors)\n",
    "        best_dir = neighbors.index(min_val)\n",
    "        if best_dir == 0:\n",
    "            self.basin_counts[x][y] += 1\n",
    "        elif best_dir == 1:\n",
    "            self.find_basin(x-1,y)\n",
    "        elif best_dir == 2:\n",
    "            self.find_basin(x+1,y)\n",
    "        elif best_dir == 3:\n",
    "            self.find_basin(x,y-1)\n",
    "        elif best_dir == 4:\n",
    "            self.find_basin(x,y+1)\n",
    "    \n",
    "    def find_all_basins(self):\n",
    "        for x in range(self.map_sz_x):\n",
    "            for y in range(self.map_sz_y):\n",
    "                if self.map[x][y] != 9:\n",
    "                    self.find_basin(x,y)\n",
    "        \n",
    "        # Find the top 3 from the map\n",
    "        top3 = [0,0,0]\n",
    "        for x in range(self.map_sz_x):\n",
    "            for y in range(self.map_sz_y):\n",
    "                if self.basin_counts[x][y] > min(top3):\n",
    "                    top3.remove(min(top3))\n",
    "                    top3.append(self.basin_counts[x][y])\n",
    "        return top3\n",
    "\n",
    "        "
   ]
  },
  {
   "cell_type": "code",
   "execution_count": 6,
   "metadata": {},
   "outputs": [
    {
     "name": "stdout",
     "output_type": "stream",
     "text": [
      "Multiple of top 3: 1134\n"
     ]
    },
    {
     "data": {
      "text/plain": [
       "[[0, 3, 0, 0, 0, 0, 0, 0, 0, 9],\n",
       " [0, 0, 0, 0, 0, 0, 0, 0, 0, 0],\n",
       " [0, 0, 14, 0, 0, 0, 0, 0, 0, 0],\n",
       " [0, 0, 0, 0, 0, 0, 0, 0, 0, 0],\n",
       " [0, 0, 0, 0, 0, 0, 9, 0, 0, 0]]"
      ]
     },
     "execution_count": 6,
     "metadata": {},
     "output_type": "execute_result"
    }
   ],
   "source": [
    "# Test input\n",
    "test_input = [\n",
    "    [2,1,9,9,9,4,3,2,1,0],\n",
    "    [3,9,8,7,8,9,4,9,2,1],\n",
    "    [9,8,5,6,7,8,9,8,9,2],\n",
    "    [8,7,6,7,8,9,6,7,8,9],\n",
    "    [9,8,9,9,9,6,5,6,7,8]\n",
    "]\n",
    "test_map = BasinMap(test_input)\n",
    "\n",
    "top3 = test_map.find_all_basins()\n",
    "print(\"Multiple of top 3:\",top3[0]*top3[1]*top3[2])\n",
    "test_map.basin_counts"
   ]
  },
  {
   "cell_type": "code",
   "execution_count": 7,
   "metadata": {},
   "outputs": [
    {
     "name": "stdout",
     "output_type": "stream",
     "text": [
      "Multiple of top 3: 1100682\n"
     ]
    }
   ],
   "source": [
    "# Puzzle input\n",
    "basin_map = BasinMap(data)\n",
    "\n",
    "top3 = basin_map.find_all_basins()\n",
    "print(\"Multiple of top 3:\",top3[0]*top3[1]*top3[2])"
   ]
  },
  {
   "cell_type": "code",
   "execution_count": null,
   "metadata": {},
   "outputs": [],
   "source": []
  }
 ],
 "metadata": {
  "kernelspec": {
   "display_name": "Python 3",
   "language": "python",
   "name": "python3"
  },
  "language_info": {
   "codemirror_mode": {
    "name": "ipython",
    "version": 3
   },
   "file_extension": ".py",
   "mimetype": "text/x-python",
   "name": "python",
   "nbconvert_exporter": "python",
   "pygments_lexer": "ipython3",
   "version": "3.8.6"
  }
 },
 "nbformat": 4,
 "nbformat_minor": 4
}
