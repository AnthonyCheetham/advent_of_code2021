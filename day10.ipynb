{
 "cells": [
  {
   "cell_type": "markdown",
   "metadata": {},
   "source": [
    "### Day 10"
   ]
  },
  {
   "cell_type": "code",
   "execution_count": 1,
   "metadata": {},
   "outputs": [
    {
     "data": {
      "text/plain": [
       "'{<<[{(<<<([[<<{}()><<>{}>]{[(){}]{{}()}}]]<[{(()())<[]{}>}(({}[])(()[]))]>)>>{{[<[[(<><>)<{}()>]{('"
      ]
     },
     "execution_count": 1,
     "metadata": {},
     "output_type": "execute_result"
    }
   ],
   "source": [
    "# Load input\n",
    "with open(\"inputs/day10_input.dat\",\"r\") as f:\n",
    "    data = f.read().splitlines()\n",
    "\n",
    "data[0]"
   ]
  },
  {
   "cell_type": "markdown",
   "metadata": {},
   "source": [
    "### Part 1:\n",
    "- Find lines that have syntax errors (i.e. bracket open/close sequence isn't valid)\n",
    "- Scores are calculated from the first illegal character, where:\n",
    "    - ) = 3\n",
    "    - ] = 57\n",
    "    - } =1197\n",
    "    - \\> = 25137\n",
    "- For now, ignore lines that have extra opens but no invalid closes (\"incomplete\" lines)\n",
    "- Calculate total score from puzzle input\n",
    "\n",
    "Thoughts:\n",
    "- Can replace all pairs recursively until we cant anymore\n",
    "- Then first closing bracket is the first incorrect character\n",
    "- If we reach the end without finding one, then it's an \"incomplete\" line"
   ]
  },
  {
   "cell_type": "code",
   "execution_count": 2,
   "metadata": {},
   "outputs": [],
   "source": [
    "score_key = {\n",
    "    \"\":0,\n",
    "    \")\":3,\n",
    "    \"]\":57,\n",
    "    \"}\":1197,\n",
    "    \">\":25137\n",
    "}\n",
    "def corrupted_line_score(line):\n",
    "    \n",
    "    # Remove all valid bracket pairs\n",
    "    last_line = line\n",
    "    n_removed = 1\n",
    "    while n_removed > 0:\n",
    "        for sym in [\"()\",\"[]\",\"{}\",\"<>\"]:\n",
    "            line = line.replace(sym,\"\")\n",
    "        n_removed = len(last_line) - len(line)\n",
    "        last_line = line\n",
    "        \n",
    "    # Find the first closing bracket\n",
    "    closes = [\")\",\"]\",\"}\",\">\"]\n",
    "    invalid_char = \"\"\n",
    "    invalid_pos = 9999\n",
    "    for char in closes:\n",
    "        char_pos = line.find(char)\n",
    "        if char_pos != -1 and char_pos < invalid_pos:\n",
    "            invalid_char = char\n",
    "            invalid_pos = char_pos\n",
    "    \n",
    "    # Return the score\n",
    "    return score_key[invalid_char]"
   ]
  },
  {
   "cell_type": "code",
   "execution_count": 3,
   "metadata": {},
   "outputs": [
    {
     "name": "stdout",
     "output_type": "stream",
     "text": [
      "26397\n"
     ]
    }
   ],
   "source": [
    "test_input = [\n",
    "    \"[({(<(())[]>[[{[]{<()<>>\",\n",
    "    \"[(()[<>])]({[<{<<[]>>(\",\n",
    "    \"{([(<{}[<>[]}>{[]{[(<()>\",\n",
    "    \"(((({<>}<{<{<>}{[]{[]{}\",\n",
    "    \"[[<[([]))<([[{}[[()]]]\",\n",
    "    \"[{[{({}]{}}([{[{{{}}([]\",\n",
    "    \"{<[[]]>}<{[{[{[]{()[[[]\",\n",
    "    \"[<(<(<(<{}))><([]([]()\",\n",
    "    \"<{([([[(<>()){}]>(<<{{\",\n",
    "    \"<{([{{}}[<[[[<>{}]]]>[]]\"\n",
    "]\n",
    "score = 0\n",
    "for line in test_input:\n",
    "    score += corrupted_line_score(line)\n",
    "print(score)"
   ]
  },
  {
   "cell_type": "code",
   "execution_count": 4,
   "metadata": {},
   "outputs": [
    {
     "name": "stdout",
     "output_type": "stream",
     "text": [
      "243939\n"
     ]
    }
   ],
   "source": [
    "score = 0\n",
    "for line in data:\n",
    "    score += corrupted_line_score(line)\n",
    "print(score)"
   ]
  },
  {
   "cell_type": "markdown",
   "metadata": {},
   "source": [
    "### Part 2:\n",
    "- This time, ignore the corrupted lines and only look at the incomplete ones\n",
    "- Work out the string needed to complete each line and calculate a score\n",
    "- Score is calculated by iterating through the string and doing\n",
    "    - new_score = 5*old_score + character_score\n",
    "    - character_score is ),],},> = 1,2,3,4\n",
    "- Calculate score for each line, then take the median over lines"
   ]
  },
  {
   "cell_type": "code",
   "execution_count": 5,
   "metadata": {},
   "outputs": [],
   "source": [
    "incomplete_score_key = {\n",
    "    \"(\":1,\n",
    "    \"[\":2,\n",
    "    \"{\":3,\n",
    "    \"<\":4\n",
    "}\n",
    "def incomplete_line_score(line):\n",
    "    \n",
    "    # Remove all valid bracket pairs\n",
    "    last_line = line\n",
    "    n_removed = 1\n",
    "    while n_removed > 0:\n",
    "        for sym in [\"()\",\"[]\",\"{}\",\"<>\"]:\n",
    "            line = line.replace(sym,\"\")\n",
    "        n_removed = len(last_line) - len(line)\n",
    "        last_line = line\n",
    "        \n",
    "    # Check that the line is incomplete\n",
    "    closes = [\")\",\"]\",\"}\",\">\"]\n",
    "    for char in closes:\n",
    "        if char in line:\n",
    "            return 0\n",
    "    \n",
    "    # The completion string should be a mirror image of line\n",
    "    # So just loop from right to left and calculate the score\n",
    "    line_score = 0\n",
    "    for char in line[::-1]:\n",
    "        line_score = 5*line_score + incomplete_score_key[char]\n",
    "        \n",
    "    return line_score"
   ]
  },
  {
   "cell_type": "code",
   "execution_count": 6,
   "metadata": {},
   "outputs": [
    {
     "name": "stdout",
     "output_type": "stream",
     "text": [
      "[288957, 5566, 0, 1480781, 0, 0, 995444, 0, 0, 294]\n"
     ]
    }
   ],
   "source": [
    "# Test input\n",
    "test_input = [\n",
    "    \"[({(<(())[]>[[{[]{<()<>>\",\n",
    "    \"[(()[<>])]({[<{<<[]>>(\",\n",
    "    \"{([(<{}[<>[]}>{[]{[(<()>\",\n",
    "    \"(((({<>}<{<{<>}{[]{[]{}\",\n",
    "    \"[[<[([]))<([[{}[[()]]]\",\n",
    "    \"[{[{({}]{}}([{[{{{}}([]\",\n",
    "    \"{<[[]]>}<{[{[{[]{()[[[]\",\n",
    "    \"[<(<(<(<{}))><([]([]()\",\n",
    "    \"<{([([[(<>()){}]>(<<{{\",\n",
    "    \"<{([{{}}[<[[[<>{}]]]>[]]\"\n",
    "]\n",
    "scores = []\n",
    "for line in test_input:\n",
    "    scores.append(incomplete_line_score(line))\n",
    "print(scores)"
   ]
  },
  {
   "cell_type": "code",
   "execution_count": 7,
   "metadata": {},
   "outputs": [
    {
     "name": "stdout",
     "output_type": "stream",
     "text": [
      "2421222841\n"
     ]
    }
   ],
   "source": [
    "scores = []\n",
    "for line in data:\n",
    "    line_score = incomplete_line_score(line)\n",
    "    # Only add nonzero scores so we're ready to get the median below\n",
    "    if line_score > 0:\n",
    "        scores.append(line_score)\n",
    "scores.sort()\n",
    "print(scores[len(scores)//2])"
   ]
  },
  {
   "cell_type": "code",
   "execution_count": null,
   "metadata": {},
   "outputs": [],
   "source": []
  }
 ],
 "metadata": {
  "kernelspec": {
   "display_name": "Python 3",
   "language": "python",
   "name": "python3"
  },
  "language_info": {
   "codemirror_mode": {
    "name": "ipython",
    "version": 3
   },
   "file_extension": ".py",
   "mimetype": "text/x-python",
   "name": "python",
   "nbconvert_exporter": "python",
   "pygments_lexer": "ipython3",
   "version": "3.8.6"
  }
 },
 "nbformat": 4,
 "nbformat_minor": 4
}
