{
 "cells": [
  {
   "cell_type": "markdown",
   "metadata": {},
   "source": [
    "### Day 17"
   ]
  },
  {
   "cell_type": "markdown",
   "metadata": {},
   "source": [
    "### Part 1:\n",
    "- probes are fired with a velocity (vx,vy) from position (x,y) = (0,0)\n",
    "- Movement happens in steps. Each step is:\n",
    "    - Increase x position by vx\n",
    "    - Increase y position by vy\n",
    "    - Decrease vx towards 0 by 1 due to drag\n",
    "    - Decrease vy by 1 due to gravity\n",
    "- Find the probe velocity that hits the target and achieves maximum height\n",
    "   \n",
    "Thoughts:\n",
    "- Could work it out mathematically, but might need the trajectory. So simulate with a class for the probe, and another for the submarine firing them"
   ]
  },
  {
   "cell_type": "code",
   "execution_count": 1,
   "metadata": {},
   "outputs": [],
   "source": [
    "class Probe(object):\n",
    "    def __init__(self,velocity,target_x=[0,0],target_y=[0,0]):\n",
    "        self.steps = 0\n",
    "        self.p = [0,0]\n",
    "        self.v = velocity\n",
    "        \n",
    "        self.target_x=target_x\n",
    "        self.target_y=target_y\n",
    "        \n",
    "        self.trajectory = [self.p]\n",
    "    \n",
    "    def one_step(self):\n",
    "        vx,vy = self.v \n",
    "        new_p = [self.p[0]+self.v[0], self.p[1]+self.v[1]]\n",
    "        new_v = [\n",
    "            vx + 1*(vx<0) - 1*(vx>0), # drag\n",
    "            vy - 1 # gravity\n",
    "        ]\n",
    "        \n",
    "        # Update and save\n",
    "        self.trajectory.append(new_p)\n",
    "        self.p = new_p\n",
    "        self.v = new_v\n",
    "        self.steps += 1\n",
    "        \n",
    "    def n_steps(self,n):\n",
    "        for ix in range(n):\n",
    "            self.one_step()\n",
    "    \n",
    "    def check_if_hits_target(self):\n",
    "        \"\"\"Run steps until it's clear it will miss the target\"\"\"\n",
    "        \n",
    "        # We know it will miss if y velocity is negative \n",
    "        # and it's too far below the target area\n",
    "        while (self.v[1] > 0) or (self.p[1] > self.target_y[0]):\n",
    "            \n",
    "            self.one_step()\n",
    "            \n",
    "            # Check final position\n",
    "            if (self.p[0] <= self.target_x[1]) and (self.p[0] >= self.target_x[0]):\n",
    "                if (self.p[1] <= self.target_y[1]) and (self.p[1] >= self.target_y[0]):\n",
    "                    return True\n",
    "                \n",
    "        return False\n",
    "    \n",
    "    def get_max_height(self):\n",
    "        \"\"\"Look through trajectory and find max height\"\"\"\n",
    "        max_height = 0\n",
    "        for s in self.trajectory:\n",
    "            max_height = max(max_height,s[1])\n",
    "        return max_height\n",
    "            \n",
    "        \n",
    "    def print_trajectory(self):\n",
    "        # Work out how big the grid needs to be\n",
    "        mx = [0,0] # Min and max x position\n",
    "        my = [0,0]\n",
    "        for s in self.trajectory:\n",
    "            mx = [min(mx[0],s[0]),max(mx[1],s[0])]\n",
    "            my = [min(my[0],s[1]),max(my[1],s[1])]\n",
    "            \n",
    "        # Grid size (between mx[0] and mx[1])\n",
    "        nx = mx[1]-mx[0]\n",
    "        ny = my[1]-my[0]\n",
    "        \n",
    "        grid = [[\".\" for x in range(nx+1)] for y in range(ny+1)]\n",
    "        \n",
    "        # Add the target area\n",
    "        for y in range(self.target_y[0],self.target_y[1]+1):\n",
    "            for x in range(self.target_x[0],self.target_x[1]+1):\n",
    "                if y <= my[1] and y >=my[0] and x <= mx[1] and x >= mx[0]:\n",
    "                    grid[y-my[0]][x-mx[0]] = \"T\"\n",
    "        \n",
    "        # Add the trajectory points\n",
    "        for s in self.trajectory:\n",
    "            if s[1] <= my[1] and s[1] >=my[0] and s[0] <= mx[1] and s[0] >= mx[0]:\n",
    "                grid[s[1]-my[0]][s[0]-mx[0]] = \"#\"\n",
    "            else:\n",
    "                print(\"not in grid\")\n",
    "                \n",
    "        grid[-my[0]][-mx[0]] = \"S\"\n",
    "        \n",
    "        # Print it\n",
    "        for row in grid[::-1]:\n",
    "            print(\"\".join(row))"
   ]
  },
  {
   "cell_type": "code",
   "execution_count": 2,
   "metadata": {},
   "outputs": [],
   "source": [
    "class Submarine(object):\n",
    "    def __init__(self,target_x,target_y):\n",
    "        self.target_x = target_x\n",
    "        self.target_y = target_y\n",
    "        \n",
    "    def find_highest_trajectory_probe(self,vxs = [0,10],vys=[0,10]):\n",
    "        \"\"\"Try a grid of probe velocities and find the highest \n",
    "        trajectory that hits the target zone.\"\"\"\n",
    "        \n",
    "        best_height = 0\n",
    "        best_p = None\n",
    "        all_hits = []\n",
    "        \n",
    "        for vx in range(vxs[0],vxs[1]+1):\n",
    "            for vy in range(vys[0],vys[1]+1):\n",
    "                p = Probe([vx,vy],self.target_x,self.target_y)\n",
    "                if p.check_if_hits_target():\n",
    "                    all_hits.append([vx,vy])\n",
    "                    height = p.get_max_height()\n",
    "                    if height > best_height:\n",
    "                        best_height = height\n",
    "                        best_p = p\n",
    "        return best_p, best_height,all_hits"
   ]
  },
  {
   "cell_type": "code",
   "execution_count": 3,
   "metadata": {},
   "outputs": [
    {
     "name": "stdout",
     "output_type": "stream",
     "text": [
      "S................................................\n",
      ".................................................\n",
      ".................................................\n",
      ".................................................\n",
      ".................#...............................\n",
      "....................TTTTTTTTTTT..................\n",
      "....................TTTTTTTTTTT..................\n",
      "....................TTTTTTTTTTT..................\n",
      "....................TTTTTTTTTTT..................\n",
      "....................TTTTTTTTTTT..#...............\n",
      "....................TTTTTTTTTTT..................\n",
      ".................................................\n",
      ".................................................\n",
      ".................................................\n",
      ".................................................\n",
      "................................................#\n"
     ]
    }
   ],
   "source": [
    "# Test inputs\n",
    "# p = Probe([7,2],[20,30],[-10,-5]) # Hit\n",
    "# p = Probe([6,3],[20,30],[-10,-5]) # Hit\n",
    "# p = Probe([9,0],[20,30],[-10,-5]) # Hit\n",
    "p = Probe([17,-4],[20,30],[-10,-5]) # No hit\n",
    "p.check_if_hits_target()\n",
    "p.print_trajectory()"
   ]
  },
  {
   "cell_type": "code",
   "execution_count": 4,
   "metadata": {},
   "outputs": [
    {
     "name": "stdout",
     "output_type": "stream",
     "text": [
      "45\n"
     ]
    }
   ],
   "source": [
    "# Test inputs for submarine\n",
    "s = Submarine([20,30],[-10,-5])\n",
    "best_p,max_height,all_hits = s.find_highest_trajectory_probe(vxs=[0,10],vys=[0,10])\n",
    "print(max_height)"
   ]
  },
  {
   "cell_type": "code",
   "execution_count": null,
   "metadata": {},
   "outputs": [],
   "source": [
    "# Puzzle input:\n",
    "s = Submarine([34,67],[-215,-186])\n",
    "best_p,max_height,all_hits = s.find_highest_trajectory_probe(vxs=[0,20],vys=[0,500])\n",
    "print(max_height)"
   ]
  },
  {
   "cell_type": "markdown",
   "metadata": {},
   "source": [
    "### Part 2:\n",
    "- How many trajectories hit?\n",
    "- Need to check between vx = [0,max_target_x] and vy = [min_target_y, ?]\n",
    "- But ? is the max height initial velocity from the previous part\n",
    "- Since vx and vy are related, could speed this up by not checking every combination\n",
    "    - e.g. if vx is too low, don't check smaller vxs\n",
    "    - But should be doable without that"
   ]
  },
  {
   "cell_type": "code",
   "execution_count": null,
   "metadata": {},
   "outputs": [],
   "source": [
    "# Test inputs for submarine\n",
    "s = Submarine([20,30],[-10,-5])\n",
    "best_p,max_height,all_hits = s.find_highest_trajectory_probe(vxs=[0,30],vys=[-40,60])\n",
    "print(max_height)\n",
    "print(len(all_hits))"
   ]
  },
  {
   "cell_type": "code",
   "execution_count": null,
   "metadata": {},
   "outputs": [],
   "source": [
    "# Puzzle input:\n",
    "s = Submarine([34,67],[-215,-186])\n",
    "best_p,max_height,all_hits = s.find_highest_trajectory_probe(vxs=[0,67],vys=[-215,214])\n",
    "print(max_height)\n",
    "print(len(all_hits))"
   ]
  },
  {
   "cell_type": "code",
   "execution_count": null,
   "metadata": {},
   "outputs": [],
   "source": []
  }
 ],
 "metadata": {
  "kernelspec": {
   "display_name": "Python 3",
   "language": "python",
   "name": "python3"
  },
  "language_info": {
   "codemirror_mode": {
    "name": "ipython",
    "version": 3
   },
   "file_extension": ".py",
   "mimetype": "text/x-python",
   "name": "python",
   "nbconvert_exporter": "python",
   "pygments_lexer": "ipython3",
   "version": "3.8.6"
  }
 },
 "nbformat": 4,
 "nbformat_minor": 4
}
