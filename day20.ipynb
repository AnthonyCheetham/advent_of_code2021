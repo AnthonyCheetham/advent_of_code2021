{
 "cells": [
  {
   "cell_type": "markdown",
   "metadata": {},
   "source": [
    "### Day 20"
   ]
  },
  {
   "cell_type": "markdown",
   "metadata": {},
   "source": [
    "### Part 1:\n",
    "- \"Image enhancement\"\n",
    "- A long string that represents the algorithm\n",
    "- An input image\n",
    "- To work out the pixel of the output:\n",
    "    - Look at a 3x3 area around the pixel in the input image\n",
    "    - Concatenate them into a string, and put # -> 1 and . -> 0 to get a binary number\n",
    "    - Turn that number to base 10 and then take the character from that position in the \"algorithm\"\n",
    "    - If the 3x3 area goes past the edge of the image then consider the extra pixels as 0"
   ]
  },
  {
   "cell_type": "code",
   "execution_count": 1,
   "metadata": {},
   "outputs": [],
   "source": [
    "class ImageEnhancer(object):\n",
    "    def __init__(self, fname):\n",
    "        \"\"\"Load an image and an enhancement string from a file.\"\"\"\n",
    "        with open(fname, \"r\") as f:\n",
    "            data = f.read().splitlines()\n",
    "            \n",
    "        in_image = False\n",
    "        algo = \"\"\n",
    "        image = []\n",
    "        for l in data:\n",
    "            if len(l) == 0:\n",
    "                in_image = True\n",
    "            elif in_image:\n",
    "                image.append(l)\n",
    "            else:\n",
    "                algo += l\n",
    "                        \n",
    "        self.algorithm = algo\n",
    "        self.image = image\n",
    "        self.infinite_grid_value = \".\"\n",
    "        \n",
    "    def pad_image(self, extra_pix = 3):\n",
    "        \"\"\"Add some extra dark pixels to an image.\n",
    "        extra_pix is the number of pixels to add in each direction\"\"\"\n",
    "        input_size = [len(self.image),len(self.image[0])]\n",
    "        output_size = [input_size[0]+2*extra_pix, input_size[1]+2*extra_pix]\n",
    "        \n",
    "        # Sometimes when we apply the algorithm the background is bright\n",
    "        sym = self.infinite_grid_value\n",
    "        \n",
    "        # Add extra columns\n",
    "        output = []\n",
    "        for l in self.image:\n",
    "            output.append(extra_pix*sym + l + extra_pix*sym)\n",
    "        \n",
    "        # Add extra rows\n",
    "        for rep in range(extra_pix):\n",
    "            output.insert(0, output_size[1]*sym)\n",
    "            output.append(output_size[1]*sym)\n",
    "        \n",
    "        self.image = output\n",
    "    \n",
    "    def print_image(self):\n",
    "        for l in self.image:\n",
    "            print(l)\n",
    "            \n",
    "\n",
    "    def update_infinite_grid_value(self):\n",
    "        \"\"\"Track what the background would look like.\"\"\"\n",
    "        # Far from the image it will be the same digit repeated\n",
    "        index_bin = 9*self.infinite_grid_value.replace(\".\",\"0\").replace(\"#\",\"1\")\n",
    "        # Use the image enhancement algorithm on this value\n",
    "        index_decimal = int(index_bin,2)\n",
    "        new_value = self.algorithm[index_decimal]\n",
    "        \n",
    "        self.infinite_grid_value = new_value\n",
    "            \n",
    "    def pixel_to_index(self,x,y):\n",
    "        \"\"\"Calculate the index for an input pixel\"\"\"\n",
    "        pix = \"\"\n",
    "        for y_ix in [y-1,y,y+1]:\n",
    "            for x_ix in [x-1,x,x+1]:\n",
    "                if (x_ix<0) or (y_ix<0) or (x_ix>=len(self.image[0])) or (y_ix>=len(self.image)):\n",
    "                    pix += self.infinite_grid_value\n",
    "                else:\n",
    "                    pix += self.image[y_ix][x_ix]\n",
    "                    \n",
    "        # Convert from #/. to 1/0\n",
    "        pix = pix.replace(\".\",\"0\").replace(\"#\",\"1\")\n",
    "        \n",
    "        algo_ix = int(pix,2)\n",
    "        return algo_ix\n",
    "    \n",
    "    def enhance(self):\n",
    "        \"\"\"Apply the image enhancement algorithm to the attached image.\"\"\"\n",
    "        \n",
    "        # First pad the image to make sure the output is big enough\n",
    "        self.pad_image(extra_pix=1)\n",
    "        \n",
    "        output_image = []\n",
    "        for y in range(len(self.image)):\n",
    "            line = \"\"\n",
    "            for x in range(len(self.image[0])):\n",
    "                ix = self.pixel_to_index(x,y)\n",
    "                line += self.algorithm[ix]\n",
    "            \n",
    "            output_image.append(line)\n",
    "            \n",
    "        # Update the new infinite grid value\n",
    "        self.update_infinite_grid_value()\n",
    "            \n",
    "        self.image = output_image\n",
    "        \n",
    "    def count_bright_pixels(self):\n",
    "        \"\"\"Count number of lit pixels in the image.\"\"\"\n",
    "        count = 0\n",
    "        for row in self.image:\n",
    "            for pix in row:\n",
    "                if pix == \"#\":\n",
    "                    count += 1\n",
    "                    \n",
    "        return count"
   ]
  },
  {
   "cell_type": "code",
   "execution_count": 2,
   "metadata": {},
   "outputs": [
    {
     "name": "stdout",
     "output_type": "stream",
     "text": [
      ".......#.\n",
      ".#..#.#..\n",
      "#.#...###\n",
      "#...##.#.\n",
      "#.....#.#\n",
      ".#.#####.\n",
      "..#.#####\n",
      "...##.##.\n",
      "....###..\n"
     ]
    },
    {
     "data": {
      "text/plain": [
       "35"
      ]
     },
     "execution_count": 2,
     "metadata": {},
     "output_type": "execute_result"
    }
   ],
   "source": [
    "# Test input\n",
    "im = ImageEnhancer(\"inputs/day20_test_input.dat\")\n",
    "im.enhance()\n",
    "im.enhance()\n",
    "im.print_image()\n",
    "im.count_bright_pixels()"
   ]
  },
  {
   "cell_type": "code",
   "execution_count": 3,
   "metadata": {},
   "outputs": [
    {
     "data": {
      "text/plain": [
       "5619"
      ]
     },
     "execution_count": 3,
     "metadata": {},
     "output_type": "execute_result"
    }
   ],
   "source": [
    "# Puzzle input\n",
    "im = ImageEnhancer(\"inputs/day20_input.dat\")\n",
    "# im.pad_image(5)\n",
    "im.enhance()\n",
    "im.enhance()\n",
    "# im.print_image()\n",
    "im.count_bright_pixels()\n",
    "# 5685 is too high"
   ]
  },
  {
   "cell_type": "markdown",
   "metadata": {},
   "source": [
    "### Part 2:\n",
    "- Apply the enhancement 50 times"
   ]
  },
  {
   "cell_type": "code",
   "execution_count": 4,
   "metadata": {},
   "outputs": [
    {
     "data": {
      "text/plain": [
       "3351"
      ]
     },
     "execution_count": 4,
     "metadata": {},
     "output_type": "execute_result"
    }
   ],
   "source": [
    "# Test input\n",
    "im = ImageEnhancer(\"inputs/day20_test_input.dat\")\n",
    "for ix in range(50):\n",
    "    im.enhance()\n",
    "# im.print_image()\n",
    "im.count_bright_pixels()"
   ]
  },
  {
   "cell_type": "code",
   "execution_count": 5,
   "metadata": {},
   "outputs": [
    {
     "data": {
      "text/plain": [
       "20122"
      ]
     },
     "execution_count": 5,
     "metadata": {},
     "output_type": "execute_result"
    }
   ],
   "source": [
    "# Puzzle input\n",
    "im = ImageEnhancer(\"inputs/day20_input.dat\")\n",
    "for ix in range(50):\n",
    "    im.enhance()\n",
    "# im.print_image()\n",
    "im.count_bright_pixels()"
   ]
  },
  {
   "cell_type": "code",
   "execution_count": null,
   "metadata": {},
   "outputs": [],
   "source": []
  }
 ],
 "metadata": {
  "kernelspec": {
   "display_name": "Python 3",
   "language": "python",
   "name": "python3"
  },
  "language_info": {
   "codemirror_mode": {
    "name": "ipython",
    "version": 3
   },
   "file_extension": ".py",
   "mimetype": "text/x-python",
   "name": "python",
   "nbconvert_exporter": "python",
   "pygments_lexer": "ipython3",
   "version": "3.8.6"
  }
 },
 "nbformat": 4,
 "nbformat_minor": 4
}
