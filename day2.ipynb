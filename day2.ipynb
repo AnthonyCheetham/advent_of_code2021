{
 "cells": [
  {
   "cell_type": "markdown",
   "metadata": {},
   "source": [
    "### Day 2"
   ]
  },
  {
   "cell_type": "code",
   "execution_count": 1,
   "metadata": {},
   "outputs": [],
   "source": [
    "# Load input\n",
    "with open(\"day2_input.dat\",\"r\") as f:\n",
    "    data = f.read().splitlines() "
   ]
  },
  {
   "cell_type": "code",
   "execution_count": 2,
   "metadata": {},
   "outputs": [
    {
     "data": {
      "text/plain": [
       "['forward 4', 'down 8', 'down 1', 'forward 6', 'forward 7']"
      ]
     },
     "execution_count": 2,
     "metadata": {},
     "output_type": "execute_result"
    }
   ],
   "source": [
    "data[0:5]"
   ]
  },
  {
   "cell_type": "markdown",
   "metadata": {},
   "source": [
    "### Part 1\n",
    "Process submarine directions (where down = +ve and forward = +ve) and print final position\n",
    "\n",
    "It would be trivial to use pandas and treat it like a table but I'm gonna avoid libraries"
   ]
  },
  {
   "cell_type": "code",
   "execution_count": 3,
   "metadata": {},
   "outputs": [],
   "source": [
    "def process_direction(d:str):\n",
    "    \"\"\"Return movement amount in form (x,y) from an input string \n",
    "    of form '[direction] [amount]'\n",
    "    \"\"\"\n",
    "    direction, amount = d.split(\" \")\n",
    "    amount = int(amount)\n",
    "    \n",
    "    if direction == \"forward\":\n",
    "        return amount, 0\n",
    "    elif direction == \"down\":\n",
    "        return 0, amount\n",
    "    elif direction == \"up\":\n",
    "        return 0, -amount"
   ]
  },
  {
   "cell_type": "code",
   "execution_count": 4,
   "metadata": {},
   "outputs": [],
   "source": [
    "x = 0 # distance forward\n",
    "y = 0 # depth\n",
    "for d in data:\n",
    "    delx, dely = process_direction(d)\n",
    "    x += delx\n",
    "    y += dely"
   ]
  },
  {
   "cell_type": "code",
   "execution_count": 5,
   "metadata": {},
   "outputs": [
    {
     "name": "stdout",
     "output_type": "stream",
     "text": [
      "2003 980\n",
      "1962940\n"
     ]
    }
   ],
   "source": [
    "print(x,y)\n",
    "# They want distance * depth\n",
    "print(x*y)"
   ]
  },
  {
   "cell_type": "markdown",
   "metadata": {},
   "source": [
    "### Part 2:\n",
    "Add in \"aim\" variable, so:\n",
    "- down X -> increase aim by X\n",
    "- up X -> decrease aim by X\n",
    "- forward X -> increase horizontal position by X and depth by aim*X\n"
   ]
  },
  {
   "cell_type": "code",
   "execution_count": 6,
   "metadata": {},
   "outputs": [],
   "source": [
    "aim = 0\n",
    "x = 0 # distance forward\n",
    "y = 0 # depth\n",
    "for d in data:\n",
    "    delx, delaim = process_direction(d)\n",
    "    # Update order doesn't matter \n",
    "    x += delx\n",
    "    aim += delaim\n",
    "    \n",
    "    y += aim*delx"
   ]
  },
  {
   "cell_type": "code",
   "execution_count": 7,
   "metadata": {},
   "outputs": [
    {
     "name": "stdout",
     "output_type": "stream",
     "text": [
      "2003 905474\n",
      "1813664422\n"
     ]
    }
   ],
   "source": [
    "print(x,y)\n",
    "# They want distance * depth\n",
    "print(x*y)"
   ]
  },
  {
   "cell_type": "code",
   "execution_count": null,
   "metadata": {},
   "outputs": [],
   "source": []
  }
 ],
 "metadata": {
  "kernelspec": {
   "display_name": "Python 3",
   "language": "python",
   "name": "python3"
  },
  "language_info": {
   "codemirror_mode": {
    "name": "ipython",
    "version": 3
   },
   "file_extension": ".py",
   "mimetype": "text/x-python",
   "name": "python",
   "nbconvert_exporter": "python",
   "pygments_lexer": "ipython3",
   "version": "3.8.6"
  }
 },
 "nbformat": 4,
 "nbformat_minor": 4
}
