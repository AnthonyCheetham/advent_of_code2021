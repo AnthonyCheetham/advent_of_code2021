{
 "cells": [
  {
   "cell_type": "markdown",
   "metadata": {},
   "source": [
    "### Day 6"
   ]
  },
  {
   "cell_type": "code",
   "execution_count": 1,
   "metadata": {},
   "outputs": [],
   "source": [
    "# Load input\n",
    "with open(\"day6_input.dat\",\"r\") as f:\n",
    "    data = f.read().splitlines()\n",
    "data = data[0].split(',')\n",
    "data = [int(x) for x in data]"
   ]
  },
  {
   "cell_type": "code",
   "execution_count": 2,
   "metadata": {},
   "outputs": [
    {
     "data": {
      "text/plain": [
       "[3, 5, 4, 1, 2]"
      ]
     },
     "execution_count": 2,
     "metadata": {},
     "output_type": "execute_result"
    }
   ],
   "source": [
    "data[0:5]"
   ]
  },
  {
   "cell_type": "markdown",
   "metadata": {},
   "source": [
    "### Part 1:\n",
    "- Model lanternfish\n",
    "    - Each one has an internal timer and produces new fish at day 0\n",
    "    - New fish start at 8, fish that reproduce reset at 6\n",
    "\n",
    "**Thoughts:**\n",
    "\n",
    "Don't need to model them individually. Can just count number with each timer value and do a for-loop"
   ]
  },
  {
   "cell_type": "code",
   "execution_count": 3,
   "metadata": {},
   "outputs": [],
   "source": [
    "class SchoolOfLanternfish(object):\n",
    "    def __init__(self, timer_vals):\n",
    "        # There are 9 timer values (0-8)\n",
    "        n_at_each_val = [0 for ix in range(9)] \n",
    "        for val in timer_vals:\n",
    "            n_at_each_val[val] += 1\n",
    "        self.n_at_each_val = n_at_each_val\n",
    "        self.day_timer = 0\n",
    "    \n",
    "    def model_one_day(self):\n",
    "        # Count new fish and reset the timers of the reproducers\n",
    "        new_fish = 1*self.n_at_each_val[0]\n",
    "        self.n_at_each_val[7] += self.n_at_each_val[0]\n",
    "        \n",
    "        # Move all the timers down\n",
    "        self.n_at_each_val = self.n_at_each_val[1:]\n",
    "        \n",
    "        # Add the new fish in\n",
    "        self.n_at_each_val.append(new_fish)"
   ]
  },
  {
   "cell_type": "code",
   "execution_count": 4,
   "metadata": {},
   "outputs": [
    {
     "name": "stdout",
     "output_type": "stream",
     "text": [
      "[0, 1, 1, 2, 1, 0, 0, 0, 0]\n",
      "Day 1 [1, 1, 2, 1, 0, 0, 0, 0, 0]\n",
      "Day 2 [1, 2, 1, 0, 0, 0, 1, 0, 1]\n",
      "Day 3 [2, 1, 0, 0, 0, 1, 1, 1, 1]\n",
      "Day 4 [1, 0, 0, 0, 1, 1, 3, 1, 2]\n",
      "Day 5 [0, 0, 0, 1, 1, 3, 2, 2, 1]\n",
      "Day 6 [0, 0, 1, 1, 3, 2, 2, 1, 0]\n",
      "Day 7 [0, 1, 1, 3, 2, 2, 1, 0, 0]\n",
      "Day 8 [1, 1, 3, 2, 2, 1, 0, 0, 0]\n",
      "Day 9 [1, 3, 2, 2, 1, 0, 1, 0, 1]\n",
      "Day 10 [3, 2, 2, 1, 0, 1, 1, 1, 1]\n",
      "Day 11 [2, 2, 1, 0, 1, 1, 4, 1, 3]\n",
      "Day 12 [2, 1, 0, 1, 1, 4, 3, 3, 2]\n",
      "Day 13 [1, 0, 1, 1, 4, 3, 5, 2, 2]\n",
      "Day 14 [0, 1, 1, 4, 3, 5, 3, 2, 1]\n",
      "Day 15 [1, 1, 4, 3, 5, 3, 2, 1, 0]\n",
      "Day 16 [1, 4, 3, 5, 3, 2, 2, 0, 1]\n",
      "Day 17 [4, 3, 5, 3, 2, 2, 1, 1, 1]\n",
      "Day 18 [3, 5, 3, 2, 2, 1, 5, 1, 4]\n"
     ]
    }
   ],
   "source": [
    "# Test it\n",
    "test_input = [3,4,3,1,2]\n",
    "school = SchoolOfLanternfish(test_input)\n",
    "print(school.n_at_each_val)\n",
    "for ix in range(18):\n",
    "    school.model_one_day()\n",
    "    print(\"Day\",ix+1,school.n_at_each_val)"
   ]
  },
  {
   "cell_type": "code",
   "execution_count": 5,
   "metadata": {},
   "outputs": [
    {
     "name": "stdout",
     "output_type": "stream",
     "text": [
      "[3, 5, 3, 2, 2, 1, 5, 1, 4]\n"
     ]
    }
   ],
   "source": [
    "test_output = [6,0,6,4,5,6,0,1,1,2,6,0,1,1,1,2,2,3,3,4,6,7,8,8,8,8]\n",
    "print(SchoolOfLanternfish(test_output).n_at_each_val)\n",
    "# It works!"
   ]
  },
  {
   "cell_type": "code",
   "execution_count": 6,
   "metadata": {},
   "outputs": [
    {
     "name": "stdout",
     "output_type": "stream",
     "text": [
      "After day: 80 [18887, 54043, 26601, 53062, 44402, 43929, 71370, 19311, 43322]\n",
      "Total fish: 374927\n"
     ]
    }
   ],
   "source": [
    "# Run on real input\n",
    "school = SchoolOfLanternfish(data)\n",
    "for ix in range(80):\n",
    "    school.model_one_day()\n",
    "print(\"After day:\",ix+1,school.n_at_each_val)\n",
    "print(\"Total fish:\",sum(school.n_at_each_val))"
   ]
  },
  {
   "cell_type": "markdown",
   "metadata": {},
   "source": [
    "### Part 2:\n",
    "- What happens after 256 days\n",
    "\n",
    "Thoughts:\n",
    "\n",
    "Watch for overflow. But python `int` is basically `long` so hopefully not an issue"
   ]
  },
  {
   "cell_type": "code",
   "execution_count": 7,
   "metadata": {},
   "outputs": [
    {
     "name": "stdout",
     "output_type": "stream",
     "text": [
      "Day 10 Total fish: 791\n",
      "Day 20 Total fish: 2120\n",
      "Day 30 Total fish: 4742\n",
      "Day 40 Total fish: 10752\n",
      "Day 50 Total fish: 27865\n",
      "Day 60 Total fish: 64540\n",
      "Day 70 Total fish: 152621\n",
      "Day 80 Total fish: 374927\n",
      "Day 90 Total fish: 868272\n",
      "Day 100 Total fish: 2118748\n",
      "Day 110 Total fish: 5074671\n",
      "Day 120 Total fish: 11862906\n",
      "Day 130 Total fish: 29047762\n",
      "Day 140 Total fish: 68665381\n",
      "Day 150 Total fish: 163067659\n",
      "Day 160 Total fish: 396016642\n",
      "Day 170 Total fish: 932524094\n",
      "Day 180 Total fish: 2239854199\n",
      "Day 190 Total fish: 5383844571\n",
      "Day 200 Total fish: 12720277565\n",
      "Day 210 Total fish: 30678220776\n",
      "Day 220 Total fish: 73171421203\n",
      "Day 230 Total fish: 173962252976\n",
      "Day 240 Total fish: 418993375027\n",
      "Day 250 Total fish: 995862943609\n",
      "After day: 256 [143185082976, 174201799504, 179624375022, 195779347549, 226154031119, 221955293329, 276896392778, 118625586582, 151195894548]\n",
      "Total fish: 1687617803407\n"
     ]
    }
   ],
   "source": [
    "school = SchoolOfLanternfish(data)\n",
    "for ix in range(256):\n",
    "    school.model_one_day()\n",
    "    if ix % 10 == 9:\n",
    "        print(\"Day\",ix+1,\"Total fish:\",sum(school.n_at_each_val))\n",
    "print(\"After day:\",ix+1,school.n_at_each_val)\n",
    "print(\"Total fish:\",sum(school.n_at_each_val))"
   ]
  },
  {
   "cell_type": "code",
   "execution_count": null,
   "metadata": {},
   "outputs": [],
   "source": []
  }
 ],
 "metadata": {
  "kernelspec": {
   "display_name": "Python 3",
   "language": "python",
   "name": "python3"
  },
  "language_info": {
   "codemirror_mode": {
    "name": "ipython",
    "version": 3
   },
   "file_extension": ".py",
   "mimetype": "text/x-python",
   "name": "python",
   "nbconvert_exporter": "python",
   "pygments_lexer": "ipython3",
   "version": "3.8.6"
  }
 },
 "nbformat": 4,
 "nbformat_minor": 4
}
